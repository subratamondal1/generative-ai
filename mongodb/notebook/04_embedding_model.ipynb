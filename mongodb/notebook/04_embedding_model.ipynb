{
 "cells": [
  {
   "cell_type": "markdown",
   "metadata": {},
   "source": [
    "# 4. Embedding Model\n",
    "> **Embeddings** models are specialized algorithms that reduces High Dimensional Data (such as text, images, audio, video) into a Low Dimensional Space of Dense Vectors.\n",
    "\n",
    "> **LLMs** are effective Artificial Neural Networks Pre-Trained on gigantic corpus of Textual Data.\n",
    "\n",
    "> While both the Embeddings and LLMs are rooted to Neural Networks, they employ distinct methodologies. LLMs are designed for generating coherent and contextually relevant text, while Embeddings are focused on mapping words, phrases, sentences into dense vectors for capturing semantic relationship. "
   ]
  },
  {
   "cell_type": "markdown",
   "metadata": {},
   "source": [
    "**Points to remember:**\n",
    "1. **Embedding Models:**  \n",
    "   These models map words, phrases, or entire sentences into dense vector spaces where semantic relationships are maintained. This means that similar meanings are clustered (positioned close) together in this space.\n",
    "\n",
    "2. **Contrastive Loss:**  \n",
    "   A technique used in embedding models to differentiate between similar and dissimilar pairs during training. It helps the model learn which items should be close in the embedding space and which should be far apart.\n",
    "\n",
    "3. **Positive and Negative Sampling:**  \n",
    "   - **Positive Samples (Minimizes the distance between Positive Pairs):** These are similar items, like synonyms or related sentences. They help the model learn what should be grouped together.  \n",
    "   - **Negative Samples (Maximizes the distance between Negative Pairs):** These are dissimilar items, like unrelated words or sentences, used to teach the model what should be kept apart.\n",
    "\n",
    "<img src=\"./assets/contrastive_loss.png\"/>"
   ]
  },
  {
   "cell_type": "code",
   "execution_count": null,
   "metadata": {
    "vscode": {
     "languageId": "plaintext"
    }
   },
   "outputs": [],
   "source": []
  }
 ],
 "metadata": {
  "language_info": {
   "name": "python"
  }
 },
 "nbformat": 4,
 "nbformat_minor": 2
}
