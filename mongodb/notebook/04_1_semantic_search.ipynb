{
 "cells": [
  {
   "cell_type": "markdown",
   "metadata": {},
   "source": [
    "# Semantic Search"
   ]
  },
  {
   "cell_type": "code",
   "execution_count": 2,
   "metadata": {},
   "outputs": [
    {
     "data": {
      "text/plain": [
       "True"
      ]
     },
     "execution_count": 2,
     "metadata": {},
     "output_type": "execute_result"
    }
   ],
   "source": [
    "import os\n",
    "import pprint\n",
    "import time\n",
    "\n",
    "from dotenv import load_dotenv\n",
    "from langchain_mongodb import MongoDBAtlasVectorSearch\n",
    "from langchain_openai import OpenAIEmbeddings\n",
    "from pymongo import MongoClient\n",
    "from pymongo.operations import SearchIndexModel\n",
    "\n",
    "# Load environment variables\n",
    "load_dotenv()"
   ]
  },
  {
   "cell_type": "code",
   "execution_count": 3,
   "metadata": {},
   "outputs": [],
   "source": [
    "# Load API keys and connection strings\n",
    "OPENAI_API_KEY: str | None = os.getenv(key=\"OPENAI_API_KEY\", default=None)\n",
    "MONGODB_CONNECTION_STRING: str | None = os.getenv(\n",
    "    key=\"MONGODB_CONNECTION_STRING\", default=None\n",
    ")\n",
    "\n",
    "# Initialize MongoDB client\n",
    "client: MongoClient = MongoClient(\n",
    "    host=MONGODB_CONNECTION_STRING, tls=True, tlsAllowInvalidCertificates=True\n",
    ")"
   ]
  },
  {
   "cell_type": "code",
   "execution_count": 4,
   "metadata": {},
   "outputs": [
    {
     "data": {
      "text/plain": [
       "DeleteResult({'n': 3, 'electionId': ObjectId('7fffffff0000000000000209'), 'opTime': {'ts': Timestamp(1736583135, 5), 't': 521}, 'ok': 1.0, '$clusterTime': {'clusterTime': Timestamp(1736583135, 5), 'signature': {'hash': b'\\\\\\xeb\\x10\\xc4\\xf4\\xb5\\nO\\xd8\\xa0\\x8b\\xdb\\x87\\xd3\\xfd\\xad>\\x05\\xd8}', 'keyId': 7416969346901082113}}, 'operationTime': Timestamp(1736583135, 5)}, acknowledged=True)"
      ]
     },
     "execution_count": 4,
     "metadata": {},
     "output_type": "execute_result"
    }
   ],
   "source": [
    "db_name: str = \"embeddings\"\n",
    "collection_name: str = \"text\"\n",
    "\n",
    "coll = client[db_name][collection_name]\n",
    "vector_search_index = \"vector_index\"\n",
    "\n",
    "# Clear existing documents\n",
    "coll.delete_many(filter={})"
   ]
  },
  {
   "cell_type": "code",
   "execution_count": 5,
   "metadata": {},
   "outputs": [],
   "source": [
    "# Sample texts\n",
    "texts: list[str] = [\n",
    "    \"A martial artist agrees to spy on a reclusive crime lord using his invitation to a tournament there as cover.\",\n",
    "    \"A group of intergalactic criminals are forced to work together to stop a fanatical warrior from taking control of the universe.\",\n",
    "    \"When a boy wishes to be big at a magic wish machine, he wakes up the next morning and finds himself in an adult body.\",\n",
    "]\n"
   ]
  },
  {
   "cell_type": "code",
   "execution_count": 6,
   "metadata": {},
   "outputs": [],
   "source": [
    "# Initialize embedding model\n",
    "embedding_model = OpenAIEmbeddings(\n",
    "    model=\"text-embedding-3-large\",\n",
    "    dimensions=768,\n",
    "    disallowed_special=(),\n",
    ")"
   ]
  },
  {
   "cell_type": "code",
   "execution_count": 7,
   "metadata": {},
   "outputs": [],
   "source": [
    "# Generate embeddings\n",
    "embeddings = embedding_model.embed_documents(texts=texts)"
   ]
  },
  {
   "cell_type": "code",
   "execution_count": 8,
   "metadata": {},
   "outputs": [],
   "source": [
    "docs = []\n",
    "for i in range(len(texts)):\n",
    "    docs.append(\n",
    "        {\n",
    "            \"text\": texts[i],\n",
    "            \"embedding\": embeddings[i],\n",
    "        }\n",
    "    )\n"
   ]
  },
  {
   "cell_type": "code",
   "execution_count": 9,
   "metadata": {},
   "outputs": [
    {
     "name": "stdout",
     "output_type": "stream",
     "text": [
      "Documents inserted successfully\n",
      "Documents embedded and inserted successfully\n"
     ]
    }
   ],
   "source": [
    "try:\n",
    "    coll.insert_many(documents=docs)\n",
    "    print(\"Documents inserted successfully\")\n",
    "except Exception as e:\n",
    "    print(f\"An error occurred during insertion: {e}\")\n",
    "\n",
    "print(\"Documents embedded and inserted successfully\")\n"
   ]
  },
  {
   "cell_type": "code",
   "execution_count": 10,
   "metadata": {},
   "outputs": [],
   "source": [
    "time.sleep(10)  # Allow time for indexing"
   ]
  },
  {
   "cell_type": "code",
   "execution_count": 11,
   "metadata": {},
   "outputs": [],
   "source": [
    "# Semantic queries\n",
    "semantic_queries: list[str] = [\n",
    "    \"Secret Agent captures underworld boss.\",\n",
    "    \"Awkward team of space defenders.\",\n",
    "    \"A magical tale of growing up.\",\n",
    "]"
   ]
  },
  {
   "cell_type": "code",
   "execution_count": 12,
   "metadata": {},
   "outputs": [],
   "source": [
    "# Check if vector search index already exists\n",
    "existing_indexes = list(coll.list_search_indexes())\n",
    "index_exists = any(index[\"name\"] == vector_search_index for index in existing_indexes)"
   ]
  },
  {
   "cell_type": "code",
   "execution_count": 13,
   "metadata": {},
   "outputs": [
    {
     "name": "stdout",
     "output_type": "stream",
     "text": [
      "Vector search index already exists.\n"
     ]
    }
   ],
   "source": [
    "if not index_exists:\n",
    "    # Define search index model\n",
    "    search_index_model = SearchIndexModel(\n",
    "        definition={\n",
    "            \"fields\": [\n",
    "                {\n",
    "                    \"type\": \"vector\",\n",
    "                    \"path\": \"embedding\",\n",
    "                    \"similarity\": \"dotProduct\",\n",
    "                    \"numDimensions\": 768,  # Corrected dimension to match embedding model\n",
    "                }\n",
    "            ]\n",
    "        },\n",
    "        name=vector_search_index,\n",
    "        type=\"vectorSearch\",\n",
    "    )\n",
    "    coll.create_search_index(model=search_index_model)\n",
    "    print(\"Vector search index created successfully.\")\n",
    "else:\n",
    "    print(\"Vector search index already exists.\")\n"
   ]
  },
  {
   "cell_type": "code",
   "execution_count": 14,
   "metadata": {},
   "outputs": [],
   "source": [
    "# Initialize vector search\n",
    "vector_search = MongoDBAtlasVectorSearch(\n",
    "    collection=coll,\n",
    "    embedding=embedding_model,\n",
    "    index_name=vector_search_index,\n",
    ")\n"
   ]
  },
  {
   "cell_type": "code",
   "execution_count": 15,
   "metadata": {},
   "outputs": [
    {
     "name": "stdout",
     "output_type": "stream",
     "text": [
      "SEMANTIC QUERY: Secret Agent captures underworld boss.\n",
      "RANKED RESULTS:\n",
      "[(Document(metadata={'_id': '67822827001471bb2c2d8029'}, page_content='A martial artist agrees to spy on a reclusive crime lord using his invitation to a tournament there as cover.'),\n",
      "  0.7542420625686646),\n",
      " (Document(metadata={'_id': '67822827001471bb2c2d802a'}, page_content='A group of intergalactic criminals are forced to work together to stop a fanatical warrior from taking control of the universe.'),\n",
      "  0.6448467969894409),\n",
      " (Document(metadata={'_id': '67822827001471bb2c2d802b'}, page_content='When a boy wishes to be big at a magic wish machine, he wakes up the next morning and finds himself in an adult body.'),\n",
      "  0.591801106929779)]\n",
      "\n",
      "\n",
      "SEMANTIC QUERY: Awkward team of space defenders.\n",
      "RANKED RESULTS:\n",
      "[(Document(metadata={'_id': '67822827001471bb2c2d802a'}, page_content='A group of intergalactic criminals are forced to work together to stop a fanatical warrior from taking control of the universe.'),\n",
      "  0.7935056686401367),\n",
      " (Document(metadata={'_id': '67822827001471bb2c2d8029'}, page_content='A martial artist agrees to spy on a reclusive crime lord using his invitation to a tournament there as cover.'),\n",
      "  0.6232367157936096),\n",
      " (Document(metadata={'_id': '67822827001471bb2c2d802b'}, page_content='When a boy wishes to be big at a magic wish machine, he wakes up the next morning and finds himself in an adult body.'),\n",
      "  0.5556370615959167)]\n",
      "\n",
      "\n",
      "SEMANTIC QUERY: A magical tale of growing up.\n",
      "RANKED RESULTS:\n",
      "[(Document(metadata={'_id': '67822827001471bb2c2d802b'}, page_content='When a boy wishes to be big at a magic wish machine, he wakes up the next morning and finds himself in an adult body.'),\n",
      "  0.7464109659194946),\n",
      " (Document(metadata={'_id': '67822827001471bb2c2d8029'}, page_content='A martial artist agrees to spy on a reclusive crime lord using his invitation to a tournament there as cover.'),\n",
      "  0.5844162106513977),\n",
      " (Document(metadata={'_id': '67822827001471bb2c2d802a'}, page_content='A group of intergalactic criminals are forced to work together to stop a fanatical warrior from taking control of the universe.'),\n",
      "  0.5688617825508118)]\n",
      "\n",
      "\n"
     ]
    }
   ],
   "source": [
    "# Perform semantic search\n",
    "for query in semantic_queries:\n",
    "    result = vector_search.similarity_search_with_score(\n",
    "        query=query,\n",
    "        k=3,\n",
    "    )\n",
    "    print(\"SEMANTIC QUERY:\", query)\n",
    "    print(\"RANKED RESULTS:\")\n",
    "    pprint.pprint(result)\n",
    "    print(\"\\n\")\n"
   ]
  },
  {
   "cell_type": "code",
   "execution_count": null,
   "metadata": {},
   "outputs": [],
   "source": []
  }
 ],
 "metadata": {
  "kernelspec": {
   "display_name": "generative-ai-zqkb-BGY-py3.12",
   "language": "python",
   "name": "python3"
  },
  "language_info": {
   "codemirror_mode": {
    "name": "ipython",
    "version": 3
   },
   "file_extension": ".py",
   "mimetype": "text/x-python",
   "name": "python",
   "nbconvert_exporter": "python",
   "pygments_lexer": "ipython3",
   "version": "3.12.5"
  }
 },
 "nbformat": 4,
 "nbformat_minor": 2
}
