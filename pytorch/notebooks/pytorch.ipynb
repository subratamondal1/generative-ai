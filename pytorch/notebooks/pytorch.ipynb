{
 "cells": [
  {
   "cell_type": "markdown",
   "metadata": {},
   "source": [
    "# Introduction to Tensors"
   ]
  },
  {
   "cell_type": "code",
   "execution_count": 56,
   "metadata": {},
   "outputs": [
    {
     "name": "stdout",
     "output_type": "stream",
     "text": [
      "2.2.2\n"
     ]
    }
   ],
   "source": [
    "import torch\n",
    "\n",
    "print(torch.__version__)"
   ]
  },
  {
   "cell_type": "markdown",
   "metadata": {},
   "source": [
    "**1. Scalar**"
   ]
  },
  {
   "cell_type": "code",
   "execution_count": 57,
   "metadata": {},
   "outputs": [],
   "source": [
    "scalar: torch.Tensor = torch.tensor(data=8)"
   ]
  },
  {
   "cell_type": "code",
   "execution_count": 58,
   "metadata": {},
   "outputs": [
    {
     "name": "stdout",
     "output_type": "stream",
     "text": [
      "Scalar tensor: 8\n",
      "Number of dimensions: 0 (0D tensor)\n",
      "Shape: torch.Size([]) (No dimensions for a scalar)\n",
      "Scalar value: 8 (Extracted value)\n",
      "Element size: 8 bytes (size of one element)\n"
     ]
    }
   ],
   "source": [
    "print(f\"Scalar tensor: {scalar}\")\n",
    "print(f\"Number of dimensions: {scalar.ndim} (0D tensor)\")\n",
    "print(f\"Shape: {scalar.shape} (No dimensions for a scalar)\")\n",
    "print(f\"Scalar value: {scalar.item()} (Extracted value)\")\n",
    "print(f\"Element size: {scalar.element_size()} bytes (size of one element)\")"
   ]
  },
  {
   "cell_type": "markdown",
   "metadata": {},
   "source": [
    "**2. Vector**"
   ]
  },
  {
   "cell_type": "code",
   "execution_count": 59,
   "metadata": {},
   "outputs": [],
   "source": [
    "vector: torch.Tensor = torch.tensor(data=[8, 5])"
   ]
  },
  {
   "cell_type": "code",
   "execution_count": 60,
   "metadata": {},
   "outputs": [
    {
     "name": "stdout",
     "output_type": "stream",
     "text": [
      "Vector tensor: tensor([8, 5])\n",
      "Number of dimensions: 1 (1D tensor)\n",
      "Shape: torch.Size([2]) (Number of elements)\n",
      "Element size: 8 bytes (size of one element)\n"
     ]
    }
   ],
   "source": [
    "print(f\"Vector tensor: {vector}\")\n",
    "print(f\"Number of dimensions: {vector.ndim} (1D tensor)\")\n",
    "print(f\"Shape: {vector.shape} (Number of elements)\")\n",
    "print(f\"Element size: {vector.element_size()} bytes (size of one element)\")"
   ]
  },
  {
   "cell_type": "markdown",
   "metadata": {},
   "source": [
    "**3. Matrix**"
   ]
  },
  {
   "cell_type": "code",
   "execution_count": 61,
   "metadata": {},
   "outputs": [],
   "source": [
    "matrix: torch.Tensor = torch.tensor(data=[[1, 2], [3, 4], [4, 5]])"
   ]
  },
  {
   "cell_type": "code",
   "execution_count": 62,
   "metadata": {},
   "outputs": [
    {
     "name": "stdout",
     "output_type": "stream",
     "text": [
      "Matrix tensor:\n",
      "tensor([[1, 2],\n",
      "        [3, 4],\n",
      "        [4, 5]])\n",
      "Number of dimensions: 2 (2D tensor)\n",
      "Shape: torch.Size([3, 2]) (Rows, Columns)\n",
      "Element size: 8 bytes (size of one element)\n"
     ]
    }
   ],
   "source": [
    "print(f\"Matrix tensor:\\n{matrix}\")\n",
    "print(f\"Number of dimensions: {matrix.ndim} (2D tensor)\")\n",
    "print(f\"Shape: {matrix.shape} (Rows, Columns)\")\n",
    "print(f\"Element size: {matrix.element_size()} bytes (size of one element)\")"
   ]
  },
  {
   "cell_type": "markdown",
   "metadata": {},
   "source": [
    "**4. Tensor**"
   ]
  },
  {
   "cell_type": "code",
   "execution_count": 65,
   "metadata": {},
   "outputs": [],
   "source": [
    "tensor: torch.Tensor = torch.tensor(data=[[[1, 2, 3, 4], [3, 2, 1, 0], [4, 5, 6, 5]]])"
   ]
  },
  {
   "cell_type": "code",
   "execution_count": 66,
   "metadata": {},
   "outputs": [
    {
     "name": "stdout",
     "output_type": "stream",
     "text": [
      "Tensor:\n",
      "tensor([[[1, 2, 3, 4],\n",
      "         [3, 2, 1, 0],\n",
      "         [4, 5, 6, 5]]])\n",
      "Number of dimensions: 3 (Tensor rank)\n",
      "Shape: torch.Size([1, 3, 4]) (Dimensions of the tensor)\n",
      "Element size: 8 bytes (Size of each element)\n"
     ]
    }
   ],
   "source": [
    "print(f\"Tensor:\\n{tensor}\")\n",
    "print(f\"Number of dimensions: {tensor.ndim} (Tensor rank)\")\n",
    "print(f\"Shape: {tensor.shape} (Dimensions of the tensor)\")\n",
    "print(f\"Element size: {tensor.element_size()} bytes (Size of each element)\")"
   ]
  },
  {
   "cell_type": "markdown",
   "metadata": {},
   "source": [
    "**5. Random Tensors**"
   ]
  },
  {
   "cell_type": "code",
   "execution_count": 68,
   "metadata": {},
   "outputs": [
    {
     "name": "stdout",
     "output_type": "stream",
     "text": [
      "Random tensor:\n",
      "tensor([[0.2135, 0.2996, 0.4897, 0.3322],\n",
      "        [0.3408, 0.5064, 0.7087, 0.1113],\n",
      "        [0.0736, 0.0761, 0.3817, 0.0267]])\n"
     ]
    }
   ],
   "source": [
    "random_tensor: torch.Tensor = torch.rand(size=(3, 4))\n",
    "print(f\"Random tensor:\\n{random_tensor}\")"
   ]
  },
  {
   "cell_type": "markdown",
   "metadata": {},
   "source": [
    "**6. Zeros and Ones**"
   ]
  },
  {
   "cell_type": "code",
   "execution_count": 71,
   "metadata": {},
   "outputs": [
    {
     "name": "stdout",
     "output_type": "stream",
     "text": [
      "Zeros tensor:\n",
      "tensor([[0., 0., 0., 0.],\n",
      "        [0., 0., 0., 0.],\n",
      "        [0., 0., 0., 0.]])\n"
     ]
    }
   ],
   "source": [
    "zeros: torch.Tensor = torch.zeros(size=(3, 4))\n",
    "print(f\"Zeros tensor:\\n{zeros}\")"
   ]
  },
  {
   "cell_type": "code",
   "execution_count": 73,
   "metadata": {},
   "outputs": [
    {
     "name": "stdout",
     "output_type": "stream",
     "text": [
      "Ones tensor:\n",
      "tensor([[1., 1., 1., 1.],\n",
      "        [1., 1., 1., 1.],\n",
      "        [1., 1., 1., 1.]])\n"
     ]
    }
   ],
   "source": [
    "ones: torch.Tensor = torch.ones(size=(3, 4))\n",
    "print(f\"Ones tensor:\\n{ones}\")"
   ]
  },
  {
   "cell_type": "markdown",
   "metadata": {},
   "source": [
    "**7. Arange and Tensor Like**"
   ]
  },
  {
   "cell_type": "code",
   "execution_count": 75,
   "metadata": {},
   "outputs": [
    {
     "name": "stdout",
     "output_type": "stream",
     "text": [
      "tensor([0, 1, 2, 3, 4, 5, 6, 7, 8, 9])\n",
      "tensor([0, 2, 4, 6, 8])\n"
     ]
    }
   ],
   "source": [
    "x: torch.Tensor = torch.arange(start=0, end=10, step=1)\n",
    "print(x)\n",
    "y: torch.Tensor = torch.arange(start=0, end=10, step=2)\n",
    "print(y)"
   ]
  },
  {
   "cell_type": "code",
   "execution_count": 78,
   "metadata": {},
   "outputs": [
    {
     "name": "stdout",
     "output_type": "stream",
     "text": [
      "Sample tensor:\n",
      "tensor([[0.2581, 0.2070],\n",
      "        [0.1650, 0.2945],\n",
      "        [0.7664, 0.8781],\n",
      "        [0.5916, 0.6157]])\n",
      "Number of dimensions: 2 (Tensor rank)\n",
      "Shape: torch.Size([4, 2]) (Dimensions of the tensor)\n",
      "Element size: 4 bytes (Size of each element)\n"
     ]
    }
   ],
   "source": [
    "sample: torch.Tensor = torch.rand(size=(4, 2))\n",
    "print(f\"Sample tensor:\\n{sample}\")\n",
    "print(f\"Number of dimensions: {sample.ndim} (Tensor rank)\")\n",
    "print(f\"Shape: {sample.shape} (Dimensions of the tensor)\")\n",
    "print(f\"Element size: {sample.element_size()} bytes (Size of each element)\")"
   ]
  },
  {
   "cell_type": "code",
   "execution_count": 80,
   "metadata": {},
   "outputs": [
    {
     "name": "stdout",
     "output_type": "stream",
     "text": [
      "Zeros tensor:\n",
      "tensor([[0., 0.],\n",
      "        [0., 0.],\n",
      "        [0., 0.],\n",
      "        [0., 0.]])\n",
      "Element size: 4 bytes (Size of each element)\n",
      "Shape: torch.Size([4, 2]) (Dimensions of the tensor)\n",
      "Element size: 4 bytes (Size of each element)\n"
     ]
    }
   ],
   "source": [
    "zeros_like = torch.zeros_like(input=sample)\n",
    "print(f\"Zeros tensor:\\n{zeros_like}\")\n",
    "print(f\"Element size: {zeros_like.element_size()} bytes (Size of each element)\")\n",
    "print(f\"Shape: {zeros_like.shape} (Dimensions of the tensor)\")\n",
    "print(f\"Element size: {zeros_like.element_size()} bytes (Size of each element)\")"
   ]
  },
  {
   "cell_type": "code",
   "execution_count": null,
   "metadata": {},
   "outputs": [],
   "source": []
  }
 ],
 "metadata": {
  "kernelspec": {
   "display_name": "generative-ai-zqkb-BGY-py3.12",
   "language": "python",
   "name": "python3"
  },
  "language_info": {
   "codemirror_mode": {
    "name": "ipython",
    "version": 3
   },
   "file_extension": ".py",
   "mimetype": "text/x-python",
   "name": "python",
   "nbconvert_exporter": "python",
   "pygments_lexer": "ipython3",
   "version": "3.12.5"
  }
 },
 "nbformat": 4,
 "nbformat_minor": 2
}
