{
 "cells": [
  {
   "cell_type": "markdown",
   "metadata": {},
   "source": [
    "# Introduction to Tensors"
   ]
  },
  {
   "cell_type": "code",
   "execution_count": 261,
   "metadata": {},
   "outputs": [
    {
     "name": "stdout",
     "output_type": "stream",
     "text": [
      "2.2.2\n"
     ]
    }
   ],
   "source": [
    "import torch\n",
    "\n",
    "print(torch.__version__)"
   ]
  },
  {
   "cell_type": "markdown",
   "metadata": {},
   "source": [
    "**1. Scalar**"
   ]
  },
  {
   "cell_type": "code",
   "execution_count": 262,
   "metadata": {},
   "outputs": [],
   "source": [
    "scalar: torch.Tensor = torch.tensor(data=8)"
   ]
  },
  {
   "cell_type": "code",
   "execution_count": 263,
   "metadata": {},
   "outputs": [
    {
     "name": "stdout",
     "output_type": "stream",
     "text": [
      "Scalar tensor: 8\n",
      "Number of dimensions: 0 (0D tensor)\n",
      "Shape: torch.Size([]) (No dimensions for a scalar)\n",
      "Scalar value: 8 (Extracted value)\n",
      "Element size: 8 bytes (size of one element)\n"
     ]
    }
   ],
   "source": [
    "print(f\"Scalar tensor: {scalar}\")\n",
    "print(f\"Number of dimensions: {scalar.ndim} (0D tensor)\")\n",
    "print(f\"Shape: {scalar.shape} (No dimensions for a scalar)\")\n",
    "print(f\"Scalar value: {scalar.item()} (Extracted value)\")\n",
    "print(f\"Element size: {scalar.element_size()} bytes (size of one element)\")"
   ]
  },
  {
   "cell_type": "markdown",
   "metadata": {},
   "source": [
    "**2. Vector**"
   ]
  },
  {
   "cell_type": "code",
   "execution_count": 264,
   "metadata": {},
   "outputs": [],
   "source": [
    "vector: torch.Tensor = torch.tensor(data=[8, 5])"
   ]
  },
  {
   "cell_type": "code",
   "execution_count": 265,
   "metadata": {},
   "outputs": [
    {
     "name": "stdout",
     "output_type": "stream",
     "text": [
      "Vector tensor: tensor([8, 5])\n",
      "Number of dimensions: 1 (1D tensor)\n",
      "Shape: torch.Size([2]) (Number of elements)\n",
      "Element size: 8 bytes (size of one element)\n"
     ]
    }
   ],
   "source": [
    "print(f\"Vector tensor: {vector}\")\n",
    "print(f\"Number of dimensions: {vector.ndim} (1D tensor)\")\n",
    "print(f\"Shape: {vector.shape} (Number of elements)\")\n",
    "print(f\"Element size: {vector.element_size()} bytes (size of one element)\")"
   ]
  },
  {
   "cell_type": "markdown",
   "metadata": {},
   "source": [
    "**3. Matrix**"
   ]
  },
  {
   "cell_type": "code",
   "execution_count": 266,
   "metadata": {},
   "outputs": [],
   "source": [
    "matrix: torch.Tensor = torch.tensor(data=[[1, 2], [3, 4], [4, 5]])"
   ]
  },
  {
   "cell_type": "code",
   "execution_count": 267,
   "metadata": {},
   "outputs": [
    {
     "name": "stdout",
     "output_type": "stream",
     "text": [
      "Matrix tensor:\n",
      "tensor([[1, 2],\n",
      "        [3, 4],\n",
      "        [4, 5]])\n",
      "Number of dimensions: 2 (2D tensor)\n",
      "Shape: torch.Size([3, 2]) (Rows, Columns)\n",
      "Element size: 8 bytes (size of one element)\n"
     ]
    }
   ],
   "source": [
    "print(f\"Matrix tensor:\\n{matrix}\")\n",
    "print(f\"Number of dimensions: {matrix.ndim} (2D tensor)\")\n",
    "print(f\"Shape: {matrix.shape} (Rows, Columns)\")\n",
    "print(f\"Element size: {matrix.element_size()} bytes (size of one element)\")"
   ]
  },
  {
   "cell_type": "markdown",
   "metadata": {},
   "source": [
    "**4. Tensor**"
   ]
  },
  {
   "cell_type": "code",
   "execution_count": 268,
   "metadata": {},
   "outputs": [],
   "source": [
    "tensor: torch.Tensor = torch.tensor(data=[[[1, 2, 3, 4], [3, 2, 1, 0], [4, 5, 6, 5]]])"
   ]
  },
  {
   "cell_type": "code",
   "execution_count": 269,
   "metadata": {},
   "outputs": [
    {
     "name": "stdout",
     "output_type": "stream",
     "text": [
      "Tensor:\n",
      "tensor([[[1, 2, 3, 4],\n",
      "         [3, 2, 1, 0],\n",
      "         [4, 5, 6, 5]]])\n",
      "Number of dimensions: 3 (Tensor rank)\n",
      "Shape: torch.Size([1, 3, 4]) (Dimensions of the tensor)\n",
      "Element size: 8 bytes (Size of each element)\n"
     ]
    }
   ],
   "source": [
    "print(f\"Tensor:\\n{tensor}\")\n",
    "print(f\"Number of dimensions: {tensor.ndim} (Tensor rank)\")\n",
    "print(f\"Shape: {tensor.shape} (Dimensions of the tensor)\")\n",
    "print(f\"Element size: {tensor.element_size()} bytes (Size of each element)\")"
   ]
  },
  {
   "cell_type": "markdown",
   "metadata": {},
   "source": [
    "**5. Random Tensors**"
   ]
  },
  {
   "cell_type": "code",
   "execution_count": 270,
   "metadata": {},
   "outputs": [
    {
     "name": "stdout",
     "output_type": "stream",
     "text": [
      "Random tensor:\n",
      "tensor([[0.8427, 0.0799, 0.4284, 0.6844],\n",
      "        [0.8967, 0.4371, 0.4546, 0.9459],\n",
      "        [0.3249, 0.5713, 0.7443, 0.3238]])\n"
     ]
    }
   ],
   "source": [
    "random_tensor: torch.Tensor = torch.rand(size=(3, 4))\n",
    "print(f\"Random tensor:\\n{random_tensor}\")"
   ]
  },
  {
   "cell_type": "markdown",
   "metadata": {},
   "source": [
    "**6. Zeros and Ones**"
   ]
  },
  {
   "cell_type": "code",
   "execution_count": 271,
   "metadata": {},
   "outputs": [
    {
     "name": "stdout",
     "output_type": "stream",
     "text": [
      "Zeros tensor:\n",
      "tensor([[0., 0., 0., 0.],\n",
      "        [0., 0., 0., 0.],\n",
      "        [0., 0., 0., 0.]])\n"
     ]
    }
   ],
   "source": [
    "zeros: torch.Tensor = torch.zeros(size=(3, 4))\n",
    "print(f\"Zeros tensor:\\n{zeros}\")"
   ]
  },
  {
   "cell_type": "code",
   "execution_count": 272,
   "metadata": {},
   "outputs": [
    {
     "name": "stdout",
     "output_type": "stream",
     "text": [
      "Ones tensor:\n",
      "tensor([[1., 1., 1., 1.],\n",
      "        [1., 1., 1., 1.],\n",
      "        [1., 1., 1., 1.]])\n"
     ]
    }
   ],
   "source": [
    "ones: torch.Tensor = torch.ones(size=(3, 4))\n",
    "print(f\"Ones tensor:\\n{ones}\")"
   ]
  },
  {
   "cell_type": "markdown",
   "metadata": {},
   "source": [
    "**7. Arange and Tensor Like**"
   ]
  },
  {
   "cell_type": "code",
   "execution_count": 273,
   "metadata": {},
   "outputs": [
    {
     "name": "stdout",
     "output_type": "stream",
     "text": [
      "tensor([0, 1, 2, 3, 4, 5, 6, 7, 8, 9])\n",
      "tensor([0, 2, 4, 6, 8])\n"
     ]
    }
   ],
   "source": [
    "x: torch.Tensor = torch.arange(start=0, end=10, step=1)\n",
    "print(x)\n",
    "y: torch.Tensor = torch.arange(start=0, end=10, step=2)\n",
    "print(y)"
   ]
  },
  {
   "cell_type": "code",
   "execution_count": 274,
   "metadata": {},
   "outputs": [
    {
     "name": "stdout",
     "output_type": "stream",
     "text": [
      "Sample tensor:\n",
      "tensor([[0.3962, 0.8188],\n",
      "        [0.7296, 0.7116],\n",
      "        [0.2970, 0.0114],\n",
      "        [0.8165, 0.3577]])\n",
      "Number of dimensions: 2 (Tensor rank)\n",
      "Shape: torch.Size([4, 2]) (Dimensions of the tensor)\n",
      "Element size: 4 bytes (Size of each element)\n"
     ]
    }
   ],
   "source": [
    "sample: torch.Tensor = torch.rand(size=(4, 2))\n",
    "print(f\"Sample tensor:\\n{sample}\")\n",
    "print(f\"Number of dimensions: {sample.ndim} (Tensor rank)\")\n",
    "print(f\"Shape: {sample.shape} (Dimensions of the tensor)\")\n",
    "print(f\"Element size: {sample.element_size()} bytes (Size of each element)\")"
   ]
  },
  {
   "cell_type": "code",
   "execution_count": 275,
   "metadata": {},
   "outputs": [
    {
     "name": "stdout",
     "output_type": "stream",
     "text": [
      "Zeros tensor:\n",
      "tensor([[0., 0.],\n",
      "        [0., 0.],\n",
      "        [0., 0.],\n",
      "        [0., 0.]])\n",
      "Diension: 2\n",
      "Shape: torch.Size([4, 2]) (Dimensions of the tensor)\n",
      "Element size: 4 bytes (Size of each element)\n"
     ]
    }
   ],
   "source": [
    "zeros_like: torch.Tensor = torch.zeros_like(input=sample)\n",
    "print(f\"Zeros tensor:\\n{zeros_like}\")\n",
    "print(f\"Diension: {zeros_like.ndim}\")\n",
    "print(f\"Shape: {zeros_like.shape} (Dimensions of the tensor)\")\n",
    "print(f\"Element size: {zeros_like.element_size()} bytes (Size of each element)\")"
   ]
  },
  {
   "cell_type": "code",
   "execution_count": 276,
   "metadata": {},
   "outputs": [
    {
     "name": "stdout",
     "output_type": "stream",
     "text": [
      "Ones tensor:\n",
      "tensor([[1., 1.],\n",
      "        [1., 1.],\n",
      "        [1., 1.],\n",
      "        [1., 1.]])\n",
      "Diension: 2\n",
      "Shape: torch.Size([4, 2]) (Dimensions of the tensor)\n",
      "Element size: 4 bytes (Size of each element)\n"
     ]
    }
   ],
   "source": [
    "ones_like: torch.Tensor = torch.ones_like(input=sample)\n",
    "print(f\"Ones tensor:\\n{ones_like}\")\n",
    "print(f\"Diension: {ones_like.ndim}\")\n",
    "print(f\"Shape: {ones_like.shape} (Dimensions of the tensor)\")\n",
    "print(f\"Element size: {ones_like.element_size()} bytes (Size of each element)\")"
   ]
  },
  {
   "cell_type": "markdown",
   "metadata": {},
   "source": [
    "**8. Eye Tensor**"
   ]
  },
  {
   "cell_type": "code",
   "execution_count": 277,
   "metadata": {},
   "outputs": [
    {
     "name": "stdout",
     "output_type": "stream",
     "text": [
      "Eye Tensor:\n",
      "tensor([[1., 0., 0., 0., 0.],\n",
      "        [0., 1., 0., 0., 0.],\n",
      "        [0., 0., 1., 0., 0.],\n",
      "        [0., 0., 0., 1., 0.],\n",
      "        [0., 0., 0., 0., 1.]])\n",
      "Diension: 2\n",
      "Shape: torch.Size([5, 5]) (Dimensions of the tensor)\n",
      "Element size: 4 bytes (Size of each element)\n"
     ]
    }
   ],
   "source": [
    "eye_tensor: torch.Tensor = torch.eye(n=5)\n",
    "print(f\"Eye Tensor:\\n{eye_tensor}\")\n",
    "print(f\"Diension: {ones_like.ndim}\")\n",
    "print(f\"Shape: {eye_tensor.shape} (Dimensions of the tensor)\")\n",
    "print(f\"Element size: {eye_tensor.element_size()} bytes (Size of each element)\")"
   ]
  },
  {
   "cell_type": "markdown",
   "metadata": {},
   "source": [
    "**9. Full Tensor**"
   ]
  },
  {
   "cell_type": "code",
   "execution_count": 278,
   "metadata": {},
   "outputs": [
    {
     "name": "stdout",
     "output_type": "stream",
     "text": [
      "Full tensor:\n",
      "tensor([[8, 8, 8, 8],\n",
      "        [8, 8, 8, 8],\n",
      "        [8, 8, 8, 8]])\n",
      "Diension: 2\n",
      "Shape: torch.Size([3, 4]) (Dimensions of the tensor)\n",
      "Element size: 8 bytes (Size of each element)\n"
     ]
    }
   ],
   "source": [
    "full_tensor: torch.Tensor = torch.full(size=(3, 4), fill_value=8)\n",
    "print(f\"Full tensor:\\n{full_tensor}\")\n",
    "print(f\"Diension: {ones_like.ndim}\")\n",
    "print(f\"Shape: {full_tensor.shape} (Dimensions of the tensor)\")\n",
    "print(f\"Element size: {full_tensor.element_size()} bytes (Size of each element)\")"
   ]
  },
  {
   "cell_type": "markdown",
   "metadata": {},
   "source": [
    "**10. Linspace**"
   ]
  },
  {
   "cell_type": "code",
   "execution_count": 279,
   "metadata": {},
   "outputs": [
    {
     "name": "stdout",
     "output_type": "stream",
     "text": [
      "tensor([ 0.0000,  2.5000,  5.0000,  7.5000, 10.0000])\n"
     ]
    }
   ],
   "source": [
    "x: torch.Tensor = torch.linspace(start=0, end=10, steps=5)\n",
    "print(x)"
   ]
  },
  {
   "cell_type": "markdown",
   "metadata": {},
   "source": [
    "# Torch Data Types"
   ]
  },
  {
   "cell_type": "code",
   "execution_count": 280,
   "metadata": {},
   "outputs": [
    {
     "name": "stdout",
     "output_type": "stream",
     "text": [
      "Sample tensor:\n",
      "tensor([[0.9220, 0.5833],\n",
      "        [0.3233, 0.3435],\n",
      "        [0.8591, 0.9282],\n",
      "        [0.3965, 0.2824]])\n",
      "Data type: torch.float32\n",
      "Element size: 4 bytes (Size of each element)\n"
     ]
    }
   ],
   "source": [
    "sample: torch.Tensor = torch.rand(size=(4, 2))\n",
    "print(f\"Sample tensor:\\n{sample}\")\n",
    "print(f\"Data type: {sample.dtype}\")\n",
    "print(f\"Element size: {sample.element_size()} bytes (Size of each element)\")"
   ]
  },
  {
   "cell_type": "code",
   "execution_count": 281,
   "metadata": {},
   "outputs": [
    {
     "name": "stdout",
     "output_type": "stream",
     "text": [
      "Sample tensor:\n",
      "tensor([[0.2593, 0.5083],\n",
      "        [0.4434, 0.2593],\n",
      "        [0.7832, 0.1909],\n",
      "        [0.2202, 0.6514]], dtype=torch.float16)\n",
      "Data type: torch.float16\n",
      "Element size: 2 bytes (Size of each element)\n"
     ]
    }
   ],
   "source": [
    "sample: torch.Tensor = torch.rand(size=(4, 2), dtype=torch.float16)\n",
    "print(f\"Sample tensor:\\n{sample}\")\n",
    "print(f\"Data type: {sample.dtype}\")\n",
    "print(f\"Element size: {sample.element_size()} bytes (Size of each element)\")"
   ]
  },
  {
   "cell_type": "code",
   "execution_count": 282,
   "metadata": {},
   "outputs": [
    {
     "name": "stdout",
     "output_type": "stream",
     "text": [
      "Sample tensor:\n",
      "tensor([[0.4493, 0.5308],\n",
      "        [0.1161, 0.0749],\n",
      "        [0.9563, 0.0273],\n",
      "        [0.4640, 0.8120]], dtype=torch.float64)\n",
      "Data type: torch.float64\n",
      "Element size: 8 bytes (Size of each element)\n"
     ]
    }
   ],
   "source": [
    "sample: torch.Tensor = torch.rand(size=(4, 2), dtype=torch.float64)\n",
    "print(f\"Sample tensor:\\n{sample}\")\n",
    "print(f\"Data type: {sample.dtype}\")\n",
    "print(f\"Element size: {sample.element_size()} bytes (Size of each element)\")"
   ]
  },
  {
   "cell_type": "markdown",
   "metadata": {},
   "source": [
    "**1. Change Data Type**"
   ]
  },
  {
   "cell_type": "code",
   "execution_count": 283,
   "metadata": {},
   "outputs": [
    {
     "name": "stdout",
     "output_type": "stream",
     "text": [
      "tensor([0, 1, 2, 3, 4, 5, 6, 7, 8, 9])\n",
      "torch.int64\n"
     ]
    }
   ],
   "source": [
    "x: torch.Tensor = torch.arange(start=0, end=10, step=1)\n",
    "print(x)\n",
    "print(x.dtype)"
   ]
  },
  {
   "cell_type": "code",
   "execution_count": 284,
   "metadata": {},
   "outputs": [
    {
     "name": "stdout",
     "output_type": "stream",
     "text": [
      "tensor([0., 1., 2., 3., 4., 5., 6., 7., 8., 9.])\n",
      "torch.float32\n"
     ]
    }
   ],
   "source": [
    "x: torch.Tensor = x.type(dtype=torch.float32)\n",
    "print(x)\n",
    "print(x.dtype)"
   ]
  },
  {
   "cell_type": "markdown",
   "metadata": {},
   "source": [
    "## Getting information about a tensor\n",
    "1. **Shape**\n",
    "2. **Dtype**\n",
    "3. **Device**"
   ]
  },
  {
   "cell_type": "code",
   "execution_count": 285,
   "metadata": {},
   "outputs": [
    {
     "name": "stdout",
     "output_type": "stream",
     "text": [
      "Some tensor:\n",
      "tensor([[0.6463, 0.0813, 0.8076, 0.1664],\n",
      "        [0.5836, 0.5651, 0.1130, 0.2998],\n",
      "        [0.8901, 0.1879, 0.3961, 0.4410]])\n",
      "Shape: torch.Size([3, 4])\n",
      "Dtype: torch.float32\n",
      "Device: cpu\n"
     ]
    }
   ],
   "source": [
    "some_tensor: torch.Tensor = torch.rand(size=(3, 4))\n",
    "print(f\"Some tensor:\\n{some_tensor}\")\n",
    "print(f\"Shape: {some_tensor.shape}\")\n",
    "print(f\"Dtype: {some_tensor.dtype}\")\n",
    "print(f\"Device: {some_tensor.device}\")"
   ]
  },
  {
   "cell_type": "markdown",
   "metadata": {},
   "source": [
    "## Tensor Operations (Manipulate Tensors)\n",
    "1. **Addition**\n",
    "2. **Subtraction**\n",
    "3. **Multiplication**\n",
    "4. **Division**\n",
    "5. **Dot Product**\n",
    "6. **Transpose**\n",
    "7. **Matrix Multiplication**"
   ]
  },
  {
   "cell_type": "code",
   "execution_count": 286,
   "metadata": {},
   "outputs": [
    {
     "name": "stdout",
     "output_type": "stream",
     "text": [
      "tensor([5, 7, 9])\n",
      "torch.int64\n",
      "torch.Size([3])\n",
      "cpu\n"
     ]
    }
   ],
   "source": [
    "# Addition of Tensors\n",
    "a: torch.Tensor = torch.tensor(data=[1, 2, 3])\n",
    "b: torch.Tensor = torch.tensor(data=[4, 5, 6])\n",
    "c: torch.Tensor = a + b\n",
    "print(c)\n",
    "print(c.dtype)\n",
    "print(c.shape)\n",
    "print(c.device)"
   ]
  },
  {
   "cell_type": "code",
   "execution_count": 287,
   "metadata": {},
   "outputs": [
    {
     "name": "stdout",
     "output_type": "stream",
     "text": [
      "tensor([-3, -3, -3])\n",
      "torch.int64\n",
      "torch.Size([3])\n",
      "cpu\n"
     ]
    }
   ],
   "source": [
    "# Subraction of Tensors\n",
    "a: torch.Tensor = torch.tensor(data=[1, 2, 3])\n",
    "b: torch.Tensor = torch.tensor(data=[4, 5, 6])\n",
    "c: torch.Tensor = a - b\n",
    "print(c)\n",
    "print(c.dtype)\n",
    "print(c.shape)\n",
    "print(c.device)"
   ]
  },
  {
   "cell_type": "code",
   "execution_count": 288,
   "metadata": {},
   "outputs": [
    {
     "name": "stdout",
     "output_type": "stream",
     "text": [
      "tensor([ 4, 10, 18])\n",
      "torch.int64\n",
      "torch.Size([3])\n",
      "cpu\n"
     ]
    }
   ],
   "source": [
    "# Multiplication of Tensors\n",
    "a: torch.Tensor = torch.tensor(data=[1, 2, 3])\n",
    "b: torch.Tensor = torch.tensor(data=[4, 5, 6])\n",
    "c: torch.Tensor = a * b\n",
    "print(c)\n",
    "print(c.dtype)\n",
    "print(c.shape)\n",
    "print(c.device)"
   ]
  },
  {
   "cell_type": "code",
   "execution_count": 289,
   "metadata": {},
   "outputs": [
    {
     "name": "stdout",
     "output_type": "stream",
     "text": [
      "tensor([0.2500, 0.4000, 0.5000])\n",
      "torch.float32\n",
      "torch.Size([3])\n",
      "cpu\n"
     ]
    }
   ],
   "source": [
    "# Division of Tensors\n",
    "a: torch.Tensor = torch.tensor(data=[1, 2, 3])\n",
    "b: torch.Tensor = torch.tensor(data=[4, 5, 6])\n",
    "c: torch.Tensor = a / b\n",
    "print(c)\n",
    "print(c.dtype)\n",
    "print(c.shape)\n",
    "print(c.device)"
   ]
  },
  {
   "cell_type": "code",
   "execution_count": 290,
   "metadata": {},
   "outputs": [
    {
     "name": "stdout",
     "output_type": "stream",
     "text": [
      "tensor(32)\n",
      "torch.int64\n",
      "torch.Size([])\n",
      "cpu\n"
     ]
    }
   ],
   "source": [
    "# Dot Product of Tensors\n",
    "a: torch.Tensor = torch.tensor(data=[1, 2, 3])\n",
    "b: torch.Tensor = torch.tensor(data=[4, 5, 6])\n",
    "c: torch.Tensor = torch.dot(input=a, tensor=b)\n",
    "print(c)\n",
    "print(c.dtype)\n",
    "print(c.shape)\n",
    "print(c.device)"
   ]
  },
  {
   "cell_type": "code",
   "execution_count": 291,
   "metadata": {},
   "outputs": [
    {
     "name": "stdout",
     "output_type": "stream",
     "text": [
      "tensor([[1, 2, 3],\n",
      "        [4, 5, 6],\n",
      "        [7, 8, 9]])\n",
      "Transpose: \n",
      "tensor([[1, 4, 7],\n",
      "        [2, 5, 8],\n",
      "        [3, 6, 9]])\n",
      "tensor([[1, 4, 7],\n",
      "        [2, 5, 8],\n",
      "        [3, 6, 9]])\n",
      "Transpose: \n",
      "tensor([[1, 2, 3],\n",
      "        [4, 5, 6],\n",
      "        [7, 8, 9]])\n",
      "torch.int64\n",
      "torch.Size([3, 3])\n",
      "cpu\n"
     ]
    }
   ],
   "source": [
    "# Transpose of Tensors\n",
    "a: torch.Tensor = torch.tensor(data=[[1, 2, 3], [4, 5, 6], [7, 8, 9]])\n",
    "b: torch.Tensor = torch.transpose(input=a, dim0=0, dim1=1)\n",
    "print(a)\n",
    "print(f\"Transpose: \\n{a.T}\")\n",
    "print(b)\n",
    "print(f\"Transpose: \\n{b.T}\")\n",
    "print(b.dtype)\n",
    "print(b.shape)\n",
    "print(b.device)"
   ]
  },
  {
   "cell_type": "markdown",
   "metadata": {},
   "source": [
    "## Find min, max , mean, sum , etc in Tensors"
   ]
  },
  {
   "cell_type": "code",
   "execution_count": 292,
   "metadata": {},
   "outputs": [
    {
     "name": "stdout",
     "output_type": "stream",
     "text": [
      "X: tensor([0., 1., 2., 3., 4., 5., 6., 7., 8., 9.])\n",
      "Min: 0.0\n",
      "Max: 9.0\n",
      "Mean: 4.5\n",
      "Sum: 45.0\n"
     ]
    }
   ],
   "source": [
    "x: torch.Tensor = torch.arange(start=0, end=10, step=1, dtype=torch.float32)\n",
    "print(f\"X: {x}\")\n",
    "\n",
    "print(f\"Min: {x.min()}\")\n",
    "print(f\"Max: {x.max()}\")\n",
    "print(f\"Mean: {x.mean()}\")\n",
    "print(f\"Sum: {x.sum()}\")"
   ]
  },
  {
   "cell_type": "markdown",
   "metadata": {},
   "source": [
    "## Positional Min and Max"
   ]
  },
  {
   "cell_type": "code",
   "execution_count": 293,
   "metadata": {},
   "outputs": [
    {
     "name": "stdout",
     "output_type": "stream",
     "text": [
      "tensor([ 0.,  2.,  4.,  6.,  8., 10., 12., 14., 16., 18.])\n",
      "Min: 0.0\n",
      "Argmin: 0\n",
      "Max: 18.0\n",
      "Argmax: 9\n"
     ]
    }
   ],
   "source": [
    "sample: torch.Tensor = torch.arange(start=0, end=20, step=2, dtype=torch.float32)\n",
    "\n",
    "print(sample)\n",
    "print(f\"Min: {sample.min()}\")\n",
    "print(f\"Argmin: {sample.argmin()}\")\n",
    "print(f\"Max: {sample.max()}\")\n",
    "print(f\"Argmax: {sample.argmax()}\")"
   ]
  },
  {
   "cell_type": "markdown",
   "metadata": {},
   "source": [
    "## Tensor Reshaping, Stacking, Squeezing, UnSqueezing, Permuting"
   ]
  },
  {
   "cell_type": "code",
   "execution_count": 294,
   "metadata": {},
   "outputs": [
    {
     "name": "stdout",
     "output_type": "stream",
     "text": [
      "X: tensor([ 0.,  1.,  2.,  3.,  4.,  5.,  6.,  7.,  8.,  9., 10., 11., 12., 13.,\n",
      "        14., 15., 16., 17., 18., 19., 20., 21., 22., 23., 24., 25., 26., 27.,\n",
      "        28., 29., 30., 31., 32., 33., 34., 35., 36., 37., 38., 39., 40., 41.,\n",
      "        42., 43., 44., 45., 46., 47., 48., 49.])\n"
     ]
    }
   ],
   "source": [
    "x: torch.Tensor = torch.arange(start=0, end=50, step=1, dtype=torch.float32)\n",
    "print(f\"X: {x}\")"
   ]
  },
  {
   "cell_type": "code",
   "execution_count": 295,
   "metadata": {},
   "outputs": [
    {
     "data": {
      "text/plain": [
       "tensor([[ 0.,  1.,  2.,  3.,  4.,  5.,  6.,  7.,  8.,  9., 10., 11., 12., 13.,\n",
       "         14., 15., 16., 17., 18., 19., 20., 21., 22., 23., 24.],\n",
       "        [25., 26., 27., 28., 29., 30., 31., 32., 33., 34., 35., 36., 37., 38.,\n",
       "         39., 40., 41., 42., 43., 44., 45., 46., 47., 48., 49.]])"
      ]
     },
     "execution_count": 295,
     "metadata": {},
     "output_type": "execute_result"
    }
   ],
   "source": [
    "# Reshape\n",
    "x.reshape(2, 25)"
   ]
  },
  {
   "cell_type": "code",
   "execution_count": 296,
   "metadata": {},
   "outputs": [
    {
     "data": {
      "text/plain": [
       "tensor([[[ 0.,  1.],\n",
       "         [ 2.,  3.],\n",
       "         [ 4.,  5.],\n",
       "         [ 6.,  7.],\n",
       "         [ 8.,  9.]],\n",
       "\n",
       "        [[10., 11.],\n",
       "         [12., 13.],\n",
       "         [14., 15.],\n",
       "         [16., 17.],\n",
       "         [18., 19.]],\n",
       "\n",
       "        [[20., 21.],\n",
       "         [22., 23.],\n",
       "         [24., 25.],\n",
       "         [26., 27.],\n",
       "         [28., 29.]],\n",
       "\n",
       "        [[30., 31.],\n",
       "         [32., 33.],\n",
       "         [34., 35.],\n",
       "         [36., 37.],\n",
       "         [38., 39.]],\n",
       "\n",
       "        [[40., 41.],\n",
       "         [42., 43.],\n",
       "         [44., 45.],\n",
       "         [46., 47.],\n",
       "         [48., 49.]]])"
      ]
     },
     "execution_count": 296,
     "metadata": {},
     "output_type": "execute_result"
    }
   ],
   "source": [
    "# Reshape\n",
    "x.reshape(5, 5, 2)"
   ]
  },
  {
   "cell_type": "code",
   "execution_count": 297,
   "metadata": {},
   "outputs": [
    {
     "name": "stdout",
     "output_type": "stream",
     "text": [
      "Y: tensor([ 0.,  1.,  2.,  3.,  4.,  5.,  6.,  7.,  8.,  9., 10., 11., 12., 13.,\n",
      "        14., 15., 16., 17., 18., 19., 20., 21., 22., 23., 24., 25., 26., 27.,\n",
      "        28., 29., 30., 31., 32., 33., 34., 35., 36., 37., 38., 39., 40., 41.,\n",
      "        42., 43., 44., 45., 46., 47., 48., 49.])\n",
      "Shape: torch.Size([50])\n"
     ]
    }
   ],
   "source": [
    "y: torch.Tensor = torch.arange(start=0, end=50, step=1, dtype=torch.float32)\n",
    "print(f\"Y: {y}\")\n",
    "print(f\"Shape: {y.shape}\")"
   ]
  },
  {
   "cell_type": "code",
   "execution_count": 298,
   "metadata": {},
   "outputs": [
    {
     "name": "stdout",
     "output_type": "stream",
     "text": [
      "View: tensor([[[ 0.,  1.],\n",
      "         [ 2.,  3.],\n",
      "         [ 4.,  5.],\n",
      "         [ 6.,  7.],\n",
      "         [ 8.,  9.]],\n",
      "\n",
      "        [[10., 11.],\n",
      "         [12., 13.],\n",
      "         [14., 15.],\n",
      "         [16., 17.],\n",
      "         [18., 19.]],\n",
      "\n",
      "        [[20., 21.],\n",
      "         [22., 23.],\n",
      "         [24., 25.],\n",
      "         [26., 27.],\n",
      "         [28., 29.]],\n",
      "\n",
      "        [[30., 31.],\n",
      "         [32., 33.],\n",
      "         [34., 35.],\n",
      "         [36., 37.],\n",
      "         [38., 39.]],\n",
      "\n",
      "        [[40., 41.],\n",
      "         [42., 43.],\n",
      "         [44., 45.],\n",
      "         [46., 47.],\n",
      "         [48., 49.]]])\n",
      "Shape: torch.Size([5, 5, 2])\n"
     ]
    }
   ],
   "source": [
    "y_view: torch.Tensor = y.view(5, 5, 2)\n",
    "print(f\"View: {y_view}\")\n",
    "print(f\"Shape: {y_view.shape}\")"
   ]
  },
  {
   "cell_type": "code",
   "execution_count": 299,
   "metadata": {},
   "outputs": [
    {
     "name": "stdout",
     "output_type": "stream",
     "text": [
      "View: tensor([[[  0.,   1.],\n",
      "         [  2.,   3.],\n",
      "         [  4.,   5.],\n",
      "         [  6.,   7.],\n",
      "         [  8.,   9.]],\n",
      "\n",
      "        [[ 10.,  11.],\n",
      "         [ 12.,  13.],\n",
      "         [ 14.,  15.],\n",
      "         [ 16.,  17.],\n",
      "         [ 18.,  19.]],\n",
      "\n",
      "        [[ 20.,  21.],\n",
      "         [ 22., 100.],\n",
      "         [ 24.,  25.],\n",
      "         [ 26.,  27.],\n",
      "         [ 28.,  29.]],\n",
      "\n",
      "        [[ 30.,  31.],\n",
      "         [ 32.,  33.],\n",
      "         [ 34.,  35.],\n",
      "         [ 36.,  37.],\n",
      "         [ 38.,  39.]],\n",
      "\n",
      "        [[ 40.,  41.],\n",
      "         [ 42.,  43.],\n",
      "         [ 44.,  45.],\n",
      "         [ 46.,  47.],\n",
      "         [ 48.,  49.]]])\n",
      "Shape: torch.Size([5, 5, 2])\n",
      "Y: tensor([  0.,   1.,   2.,   3.,   4.,   5.,   6.,   7.,   8.,   9.,  10.,  11.,\n",
      "         12.,  13.,  14.,  15.,  16.,  17.,  18.,  19.,  20.,  21.,  22., 100.,\n",
      "         24.,  25.,  26.,  27.,  28.,  29.,  30.,  31.,  32.,  33.,  34.,  35.,\n",
      "         36.,  37.,  38.,  39.,  40.,  41.,  42.,  43.,  44.,  45.,  46.,  47.,\n",
      "         48.,  49.])\n"
     ]
    }
   ],
   "source": [
    "y_view[2, 1, 1] = 100\n",
    "print(f\"View: {y_view}\")\n",
    "print(f\"Shape: {y_view.shape}\")\n",
    "print(f\"Y: {y}\")"
   ]
  },
  {
   "cell_type": "code",
   "execution_count": 300,
   "metadata": {},
   "outputs": [
    {
     "data": {
      "text/plain": [
       "tensor([  0.,   1.,   2.,   3.,   4.,   5.,   6.,   7.,   8.,   9.,  10.,  11.,\n",
       "         12.,  13.,  14.,  15.,  16.,  17.,  18.,  19.,  20.,  21.,  22., 100.,\n",
       "         24.,  25.,  26.,  27.,  28.,  29.,  30.,  31.,  32.,  33.,  34.,  35.,\n",
       "         36.,  37.,  38.,  39.,  40.,  41.,  42.,  43.,  44.,  45.,  46.,  47.,\n",
       "         48.,  49.])"
      ]
     },
     "execution_count": 300,
     "metadata": {},
     "output_type": "execute_result"
    }
   ],
   "source": [
    "y"
   ]
  },
  {
   "cell_type": "code",
   "execution_count": 301,
   "metadata": {},
   "outputs": [
    {
     "name": "stdout",
     "output_type": "stream",
     "text": [
      "Tensor: tensor([ 0., 10., 20., 30., 40.])\n",
      "Tensor shape: torch.Size([5])\n",
      "Dimensions: 1\n"
     ]
    }
   ],
   "source": [
    "# Torch Stack\n",
    "tensor: torch.Tensor = torch.arange(start=0, end=50, step=10, dtype=torch.float32)\n",
    "print(f\"Tensor: {tensor}\")\n",
    "print(f\"Tensor shape: {tensor.shape}\")\n",
    "print(f\"Dimensions: {tensor.ndim}\")"
   ]
  },
  {
   "cell_type": "code",
   "execution_count": 302,
   "metadata": {},
   "outputs": [
    {
     "name": "stdout",
     "output_type": "stream",
     "text": [
      "Stacked: tensor([[ 0., 10., 20., 30., 40.],\n",
      "        [ 0., 10., 20., 30., 40.],\n",
      "        [ 0., 10., 20., 30., 40.]])\n",
      "Stacked shape: torch.Size([3, 5])\n",
      "Dimensions: 2\n"
     ]
    }
   ],
   "source": [
    "tensor_stacked: torch.Tensor = torch.stack(tensors=[tensor, tensor, tensor], dim=0)\n",
    "print(f\"Stacked: {tensor_stacked}\")\n",
    "print(f\"Stacked shape: {tensor_stacked.shape}\")\n",
    "print(f\"Dimensions: {tensor_stacked.ndim}\")"
   ]
  },
  {
   "cell_type": "code",
   "execution_count": 303,
   "metadata": {},
   "outputs": [
    {
     "name": "stdout",
     "output_type": "stream",
     "text": [
      "Stacked: tensor([[ 0.,  0.,  0.],\n",
      "        [10., 10., 10.],\n",
      "        [20., 20., 20.],\n",
      "        [30., 30., 30.],\n",
      "        [40., 40., 40.]])\n",
      "Stacked shape: torch.Size([5, 3])\n",
      "Dimensions: 2\n"
     ]
    }
   ],
   "source": [
    "tensor_stacked: torch.Tensor = torch.stack(tensors=[tensor, tensor, tensor], dim=1)\n",
    "print(f\"Stacked: {tensor_stacked}\")\n",
    "print(f\"Stacked shape: {tensor_stacked.shape}\")\n",
    "print(f\"Dimensions: {tensor_stacked.ndim}\")\n"
   ]
  },
  {
   "cell_type": "code",
   "execution_count": 304,
   "metadata": {},
   "outputs": [
    {
     "name": "stdout",
     "output_type": "stream",
     "text": [
      "X: tensor([0., 1., 2., 3., 4., 5., 6., 7., 8., 9.])\n",
      "X shape: torch.Size([10])\n",
      "Dimensions: 1\n",
      "Unsqueezed shape: torch.Size([1, 10])\n",
      "Unsqueezed @ Dim 0: tensor([[0., 1., 2., 3., 4., 5., 6., 7., 8., 9.]])\n",
      "Dimensions: 2\n",
      "Unsqueezed shape: torch.Size([10, 1])\n",
      "Unsqueezed @ Dim 1: tensor([[0.],\n",
      "        [1.],\n",
      "        [2.],\n",
      "        [3.],\n",
      "        [4.],\n",
      "        [5.],\n",
      "        [6.],\n",
      "        [7.],\n",
      "        [8.],\n",
      "        [9.]])\n",
      "Dimensions: 2\n"
     ]
    }
   ],
   "source": [
    "# Torch Unsqueeze: This is used to add a dimension to a tensor at the specified index (0 or 1)\n",
    "x: torch.Tensor = torch.arange(start=0, end=10, step=1, dtype=torch.float32)\n",
    "print(f\"X: {x}\")\n",
    "print(f\"X shape: {x.shape}\")\n",
    "print(f\"Dimensions: {x.ndim}\")\n",
    "x_unsqueezed: torch.Tensor = x.unsqueeze(dim=0)\n",
    "print(f\"Unsqueezed shape: {x_unsqueezed.shape}\")\n",
    "print(f\"Unsqueezed @ Dim 0: {x_unsqueezed}\")\n",
    "print(f\"Dimensions: {x_unsqueezed.ndim}\")\n",
    "x_unsqueezed: torch.Tensor = x.unsqueeze(dim=1)\n",
    "print(f\"Unsqueezed shape: {x_unsqueezed.shape}\")\n",
    "print(f\"Unsqueezed @ Dim 1: {x_unsqueezed}\")\n",
    "print(f\"Dimensions: {x_unsqueezed.ndim}\")"
   ]
  },
  {
   "cell_type": "code",
   "execution_count": 305,
   "metadata": {},
   "outputs": [
    {
     "name": "stdout",
     "output_type": "stream",
     "text": [
      "X: tensor([[0.3845, 0.4929, 0.9792, 0.7224]])\n",
      "X shape: torch.Size([1, 4])\n",
      "Dimensions: 2\n",
      "Squeezed shape: torch.Size([4])\n",
      "Squeezed @ Dim 0: tensor([0.3845, 0.4929, 0.9792, 0.7224])\n"
     ]
    }
   ],
   "source": [
    "# Torch Squeeze: This is used to remove the one dimension from a tensor at the specified index (0 or 1)\n",
    "x: torch.Tensor = torch.rand(size=(1, 4), dtype=torch.float32)\n",
    "print(f\"X: {x}\")\n",
    "print(f\"X shape: {x.shape}\")\n",
    "print(f\"Dimensions: {x.ndim}\")\n",
    "\n",
    "x_squeezed: torch.Tensor = x.squeeze(dim=0)\n",
    "print(f\"Squeezed shape: {x_squeezed.shape}\")\n",
    "print(f\"Squeezed @ Dim 0: {x_squeezed}\")"
   ]
  },
  {
   "cell_type": "code",
   "execution_count": 306,
   "metadata": {},
   "outputs": [
    {
     "name": "stdout",
     "output_type": "stream",
     "text": [
      "X: tensor([[0.8213],\n",
      "        [0.1347],\n",
      "        [0.0907],\n",
      "        [0.5213]])\n",
      "X shape: torch.Size([4, 1])\n",
      "Dimensions: 2\n",
      "Squeezed shape: torch.Size([4])\n",
      "Squeezed @ Dim 0: tensor([0.8213, 0.1347, 0.0907, 0.5213])\n"
     ]
    }
   ],
   "source": [
    "# Torch Squeeze: This is used to remove the one dimension from a tensor at the specified index (0 or 1)\n",
    "x: torch.Tensor = torch.rand(size=(4, 1), dtype=torch.float32)\n",
    "print(f\"X: {x}\")\n",
    "print(f\"X shape: {x.shape}\")\n",
    "print(f\"Dimensions: {x.ndim}\")\n",
    "\n",
    "x_squeezed: torch.Tensor = x.squeeze(dim=1)\n",
    "print(f\"Squeezed shape: {x_squeezed.shape}\")\n",
    "print(f\"Squeezed @ Dim 0: {x_squeezed}\")"
   ]
  },
  {
   "cell_type": "markdown",
   "metadata": {},
   "source": [
    "## Permute\n",
    "\n",
    "Rearrange tensor dimensions from (a, b, c, d) to (b, a, c, d) or (b, d, a, c) or any other order."
   ]
  },
  {
   "cell_type": "code",
   "execution_count": 307,
   "metadata": {},
   "outputs": [
    {
     "name": "stdout",
     "output_type": "stream",
     "text": [
      "X: \n",
      "tensor([[ 0.4104,  1.9645, -0.7227, -0.1388],\n",
      "        [ 1.2633, -0.0564,  0.5764,  0.3185]])\n",
      "X shape: torch.Size([2, 4])\n",
      "Dimensions: 2\n"
     ]
    }
   ],
   "source": [
    "x: torch.Tensor = torch.randn(size=(2, 4), dtype=torch.float32)\n",
    "print(f\"X: \\n{x}\")\n",
    "print(f\"X shape: {x.shape}\")\n",
    "print(f\"Dimensions: {x.ndim}\")"
   ]
  },
  {
   "cell_type": "code",
   "execution_count": 308,
   "metadata": {},
   "outputs": [
    {
     "name": "stdout",
     "output_type": "stream",
     "text": [
      "Permuted: \n",
      "tensor([[ 0.4104,  1.2633],\n",
      "        [ 1.9645, -0.0564],\n",
      "        [-0.7227,  0.5764],\n",
      "        [-0.1388,  0.3185]])\n",
      "Permuted shape: torch.Size([4, 2])\n",
      "Dimensions: 2\n"
     ]
    }
   ],
   "source": [
    "x_permuted: torch.Tensor = x.permute(1, 0)\n",
    "print(f\"Permuted: \\n{x_permuted}\")\n",
    "print(f\"Permuted shape: {x_permuted.shape}\")\n",
    "print(f\"Dimensions: {x_permuted.ndim}\")"
   ]
  },
  {
   "cell_type": "code",
   "execution_count": 309,
   "metadata": {},
   "outputs": [
    {
     "name": "stdout",
     "output_type": "stream",
     "text": [
      "X: \n",
      "tensor([[[ 0.5759, -1.1607,  1.1027],\n",
      "         [-1.7399,  0.8367,  0.0463],\n",
      "         [-0.2827,  0.7077,  0.1904],\n",
      "         [ 1.0056, -0.3175, -0.2409]],\n",
      "\n",
      "        [[ 1.3167,  0.4540,  0.0246],\n",
      "         [-0.3806, -1.1052,  2.6606],\n",
      "         [-1.3440,  1.5551, -2.0453],\n",
      "         [-0.5887, -0.9425, -1.1497]]])\n",
      "X shape: torch.Size([2, 4, 3])\n",
      "Dimensions: 3\n",
      "Permuted: \n",
      "tensor([[[ 0.5759,  1.3167],\n",
      "         [-1.1607,  0.4540],\n",
      "         [ 1.1027,  0.0246]],\n",
      "\n",
      "        [[-1.7399, -0.3806],\n",
      "         [ 0.8367, -1.1052],\n",
      "         [ 0.0463,  2.6606]],\n",
      "\n",
      "        [[-0.2827, -1.3440],\n",
      "         [ 0.7077,  1.5551],\n",
      "         [ 0.1904, -2.0453]],\n",
      "\n",
      "        [[ 1.0056, -0.5887],\n",
      "         [-0.3175, -0.9425],\n",
      "         [-0.2409, -1.1497]]])\n",
      "Permuted shape: torch.Size([4, 3, 2])\n",
      "Dimensions: 3\n"
     ]
    }
   ],
   "source": [
    "x: torch.Tensor = torch.randn(size=(2, 4, 3), dtype=torch.float32)\n",
    "print(f\"X: \\n{x}\")\n",
    "print(f\"X shape: {x.shape}\")\n",
    "print(f\"Dimensions: {x.ndim}\")\n",
    "\n",
    "x_permuted: torch.Tensor = x.permute(1, 2, 0)\n",
    "print(f\"Permuted: \\n{x_permuted}\")\n",
    "print(f\"Permuted shape: {x_permuted.shape}\")\n",
    "print(f\"Dimensions: {x_permuted.ndim}\")"
   ]
  },
  {
   "cell_type": "markdown",
   "metadata": {},
   "source": [
    "## Tensors Indexing"
   ]
  },
  {
   "cell_type": "code",
   "execution_count": 310,
   "metadata": {},
   "outputs": [
    {
     "name": "stdout",
     "output_type": "stream",
     "text": [
      "X: \n",
      "tensor([[[0., 1., 2., 3., 4.],\n",
      "         [5., 6., 7., 8., 9.]]])\n",
      "X shape: torch.Size([1, 2, 5])\n"
     ]
    }
   ],
   "source": [
    "x: torch.Tensor = torch.arange(start=0, end=10, step=1, dtype=torch.float32).reshape(\n",
    "    shape=(1, 2, 5)\n",
    ")\n",
    "print(f\"X: \\n{x}\")\n",
    "print(f\"X shape: {x.shape}\")"
   ]
  },
  {
   "cell_type": "code",
   "execution_count": 311,
   "metadata": {},
   "outputs": [
    {
     "data": {
      "text/plain": [
       "tensor([[0., 1., 2., 3., 4.],\n",
       "        [5., 6., 7., 8., 9.]])"
      ]
     },
     "execution_count": 311,
     "metadata": {},
     "output_type": "execute_result"
    }
   ],
   "source": [
    "x[0]"
   ]
  },
  {
   "cell_type": "code",
   "execution_count": 312,
   "metadata": {},
   "outputs": [
    {
     "data": {
      "text/plain": [
       "tensor(1.)"
      ]
     },
     "execution_count": 312,
     "metadata": {},
     "output_type": "execute_result"
    }
   ],
   "source": [
    "x[0, 0, 1]"
   ]
  },
  {
   "cell_type": "markdown",
   "metadata": {},
   "source": [
    "## PyTorch and NumPy"
   ]
  },
  {
   "cell_type": "code",
   "execution_count": 321,
   "metadata": {},
   "outputs": [],
   "source": [
    "import numpy as np"
   ]
  },
  {
   "cell_type": "code",
   "execution_count": 327,
   "metadata": {},
   "outputs": [
    {
     "name": "stdout",
     "output_type": "stream",
     "text": [
      "Array: \n",
      "[0. 1. 2. 3. 4. 5. 6. 7. 8. 9.]\n"
     ]
    }
   ],
   "source": [
    "array: np.ndarray = np.arange(start=0, stop=10, step=1, dtype=np.float32)\n",
    "print(f\"Array: \\n{array}\")"
   ]
  },
  {
   "cell_type": "markdown",
   "metadata": {},
   "source": [
    "## Reproducibility"
   ]
  },
  {
   "cell_type": "code",
   "execution_count": 329,
   "metadata": {},
   "outputs": [
    {
     "name": "stdout",
     "output_type": "stream",
     "text": [
      "Random tensor: \n",
      "tensor([[0.8934, 0.3433, 0.8815, 0.0231],\n",
      "        [0.1120, 0.9955, 0.7101, 0.2445],\n",
      "        [0.7027, 0.6008, 0.2284, 0.0852]])\n"
     ]
    }
   ],
   "source": [
    "random_tensor: torch.Tensor = torch.rand(size=(3, 4), dtype=torch.float32)\n",
    "print(f\"Random tensor: \\n{random_tensor}\")"
   ]
  },
  {
   "cell_type": "code",
   "execution_count": 330,
   "metadata": {},
   "outputs": [
    {
     "name": "stdout",
     "output_type": "stream",
     "text": [
      "Random tensor: \n",
      "tensor([[0.8167, 0.4155, 0.3893, 0.1586],\n",
      "        [0.3620, 0.7613, 0.3083, 0.1497],\n",
      "        [0.7130, 0.5706, 0.4787, 0.7841]])\n"
     ]
    }
   ],
   "source": [
    "random_tensor: torch.Tensor = torch.rand(size=(3, 4), dtype=torch.float32)\n",
    "print(f\"Random tensor: \\n{random_tensor}\")"
   ]
  },
  {
   "cell_type": "code",
   "execution_count": 331,
   "metadata": {},
   "outputs": [
    {
     "name": "stdout",
     "output_type": "stream",
     "text": [
      "Random tensor: \n",
      "tensor([[0.7196, 0.7307, 0.8278, 0.1343],\n",
      "        [0.6280, 0.7297, 0.2882, 0.2112],\n",
      "        [0.9836, 0.8722, 0.9650, 0.7837]])\n"
     ]
    }
   ],
   "source": [
    "random_seed = 44\n",
    "torch.manual_seed(seed=random_seed)\n",
    "random_tensor: torch.Tensor = torch.rand(size=(3, 4), dtype=torch.float32)\n",
    "print(f\"Random tensor: \\n{random_tensor}\")"
   ]
  },
  {
   "cell_type": "code",
   "execution_count": 333,
   "metadata": {},
   "outputs": [
    {
     "name": "stdout",
     "output_type": "stream",
     "text": [
      "Random tensor: \n",
      "tensor([[0.7196, 0.7307, 0.8278, 0.1343],\n",
      "        [0.6280, 0.7297, 0.2882, 0.2112],\n",
      "        [0.9836, 0.8722, 0.9650, 0.7837]])\n"
     ]
    }
   ],
   "source": [
    "torch.manual_seed(seed=random_seed)\n",
    "random_tensor: torch.Tensor = torch.rand(size=(3, 4), dtype=torch.float32)\n",
    "print(f\"Random tensor: \\n{random_tensor}\")"
   ]
  },
  {
   "cell_type": "markdown",
   "metadata": {},
   "source": [
    "# Working with GPUs."
   ]
  },
  {
   "cell_type": "code",
   "execution_count": 334,
   "metadata": {},
   "outputs": [
    {
     "data": {
      "text/plain": [
       "False"
      ]
     },
     "execution_count": 334,
     "metadata": {},
     "output_type": "execute_result"
    }
   ],
   "source": [
    "torch.cuda.is_available()"
   ]
  },
  {
   "cell_type": "code",
   "execution_count": 347,
   "metadata": {},
   "outputs": [
    {
     "name": "stdout",
     "output_type": "stream",
     "text": [
      "Device: cpu\n"
     ]
    }
   ],
   "source": [
    "# GPU / Device Agnostic Code\n",
    "device = torch.device(device=\"cuda\" if torch.cuda.is_available() else \"cpu\")\n",
    "print(f\"Device: {device}\")"
   ]
  },
  {
   "cell_type": "code",
   "execution_count": 348,
   "metadata": {},
   "outputs": [
    {
     "name": "stdout",
     "output_type": "stream",
     "text": [
      "Device count: 0\n"
     ]
    }
   ],
   "source": [
    "# GPU Device Count\n",
    "torch.cuda.device_count()\n",
    "print(f\"Device count: {torch.cuda.device_count()}\")"
   ]
  },
  {
   "cell_type": "code",
   "execution_count": 341,
   "metadata": {},
   "outputs": [
    {
     "name": "stdout",
     "output_type": "stream",
     "text": [
      "tensor([ 0., 10., 20., 30., 40.]) cpu\n"
     ]
    }
   ],
   "source": [
    "print(tensor, tensor.device)"
   ]
  },
  {
   "cell_type": "code",
   "execution_count": 343,
   "metadata": {},
   "outputs": [
    {
     "name": "stdout",
     "output_type": "stream",
     "text": [
      "tensor([ 0., 10., 20., 30., 40.]) cpu\n"
     ]
    }
   ],
   "source": [
    "tensor.to(device=device)\n",
    "print(tensor, tensor.device)"
   ]
  },
  {
   "cell_type": "code",
   "execution_count": 345,
   "metadata": {},
   "outputs": [
    {
     "name": "stdout",
     "output_type": "stream",
     "text": [
      "tensor([ 0., 10., 20., 30., 40.]) cpu\n"
     ]
    }
   ],
   "source": [
    "tensor_gpu: torch.Tensor = tensor.to(device=device)\n",
    "print(tensor_gpu, tensor_gpu.device)"
   ]
  },
  {
   "cell_type": "code",
   "execution_count": 346,
   "metadata": {},
   "outputs": [
    {
     "name": "stdout",
     "output_type": "stream",
     "text": [
      "tensor([ 0., 10., 20., 30., 40.]) cpu\n"
     ]
    }
   ],
   "source": [
    "tensor_cpu: torch.Tensor = tensor_gpu.cpu()\n",
    "print(tensor_cpu, tensor_cpu.device)"
   ]
  },
  {
   "cell_type": "code",
   "execution_count": null,
   "metadata": {},
   "outputs": [],
   "source": []
  }
 ],
 "metadata": {
  "kernelspec": {
   "display_name": "generative-ai-zqkb-BGY-py3.12",
   "language": "python",
   "name": "python3"
  },
  "language_info": {
   "codemirror_mode": {
    "name": "ipython",
    "version": 3
   },
   "file_extension": ".py",
   "mimetype": "text/x-python",
   "name": "python",
   "nbconvert_exporter": "python",
   "pygments_lexer": "ipython3",
   "version": "3.12.5"
  }
 },
 "nbformat": 4,
 "nbformat_minor": 2
}
