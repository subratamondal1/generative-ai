{
 "cells": [
  {
   "cell_type": "markdown",
   "metadata": {},
   "source": [
    "# Linear Regression"
   ]
  },
  {
   "cell_type": "markdown",
   "metadata": {},
   "source": [
    "## WorkFlow\n",
    "1. Import the necessary libraries\n",
    "2. Get the data ready\n",
    "3. Build the model (Linear Regression Model)\n",
    "4. Pick up a Loss Function and Optimizer\n",
    "5. Build a Training Loop\n",
    "6. Evaluate the model\n",
    "7. Test the Model with New Data Points\n",
    "8. Save the Model"
   ]
  },
  {
   "cell_type": "markdown",
   "metadata": {},
   "source": [
    "## 1. Import the necessary libraries"
   ]
  },
  {
   "cell_type": "code",
   "execution_count": 1,
   "metadata": {},
   "outputs": [],
   "source": [
    "import matplotlib.pyplot as plt\n",
    "import numpy as np\n",
    "import torch\n",
    "import torch.nn as nn"
   ]
  },
  {
   "cell_type": "markdown",
   "metadata": {},
   "source": [
    "## 2. Get the data ready"
   ]
  },
  {
   "cell_type": "code",
   "execution_count": 2,
   "metadata": {},
   "outputs": [
    {
     "name": "stdout",
     "output_type": "stream",
     "text": [
      "X Train: \n",
      "[[ 3.3  ]\n",
      " [ 4.4  ]\n",
      " [ 5.5  ]\n",
      " [ 6.71 ]\n",
      " [ 6.93 ]\n",
      " [ 4.168]\n",
      " [ 9.779]\n",
      " [ 6.182]\n",
      " [ 7.59 ]\n",
      " [ 2.167]\n",
      " [ 7.042]\n",
      " [10.791]\n",
      " [ 5.313]\n",
      " [ 7.997]\n",
      " [ 3.1  ]]\n",
      "X_train shape: (15, 1)\n",
      "\n",
      "Y Train: \n",
      "[[1.7  ]\n",
      " [2.76 ]\n",
      " [2.09 ]\n",
      " [3.19 ]\n",
      " [1.694]\n",
      " [1.573]\n",
      " [3.366]\n",
      " [2.596]\n",
      " [2.53 ]\n",
      " [1.221]\n",
      " [2.827]\n",
      " [3.465]\n",
      " [1.65 ]\n",
      " [2.904]\n",
      " [1.3  ]]\n",
      "Y_train shape: (15, 1)\n"
     ]
    }
   ],
   "source": [
    "x_train: np.ndarray = np.array(\n",
    "    object=[\n",
    "        [3.3],\n",
    "        [4.4],\n",
    "        [5.5],\n",
    "        [6.71],\n",
    "        [6.93],\n",
    "        [4.168],\n",
    "        [9.779],\n",
    "        [6.182],\n",
    "        [7.59],\n",
    "        [2.167],\n",
    "        [7.042],\n",
    "        [10.791],\n",
    "        [5.313],\n",
    "        [7.997],\n",
    "        [3.1],\n",
    "    ],\n",
    "    dtype=np.float32,\n",
    ")\n",
    "\n",
    "print(f\"X Train: \\n{x_train}\")\n",
    "print(f\"X_train shape: {x_train.shape}\")\n",
    "\n",
    "y_train: np.ndarray = np.array(\n",
    "    object=[\n",
    "        [1.7],\n",
    "        [2.76],\n",
    "        [2.09],\n",
    "        [3.19],\n",
    "        [1.694],\n",
    "        [1.573],\n",
    "        [3.366],\n",
    "        [2.596],\n",
    "        [2.53],\n",
    "        [1.221],\n",
    "        [2.827],\n",
    "        [3.465],\n",
    "        [1.65],\n",
    "        [2.904],\n",
    "        [1.3],\n",
    "    ],\n",
    "    dtype=np.float32,\n",
    ")\n",
    "\n",
    "print(f\"\\nY Train: \\n{y_train}\")\n",
    "print(f\"Y_train shape: {y_train.shape}\")"
   ]
  },
  {
   "cell_type": "code",
   "execution_count": 3,
   "metadata": {},
   "outputs": [
    {
     "data": {
      "image/png": "[encoded data removed]",
      "text/plain": [
       "<Figure size 800x600 with 1 Axes>"
      ]
     },
     "metadata": {},
     "output_type": "display_data"
    }
   ],
   "source": [
    "fig: plt.Figure = plt.figure(figsize=(8, 6))\n",
    "plt.plot(x_train, y_train, \"ro\", label=\"Original Data\")\n",
    "plt.xlabel(xlabel=\"Hours Studied\")\n",
    "plt.ylabel(ylabel=\"Exam Score\")\n",
    "plt.title(label=\"Exam Score Prediction\")\n",
    "plt.legend(loc=\"upper left\")\n",
    "plt.show()"
   ]
  },
  {
   "cell_type": "markdown",
   "metadata": {},
   "source": [
    "### Convert data to tensors from numpy arrays"
   ]
  },
  {
   "cell_type": "code",
   "execution_count": 4,
   "metadata": {},
   "outputs": [
    {
     "name": "stdout",
     "output_type": "stream",
     "text": [
      "X Train: \n",
      "tensor([[ 3.3000],\n",
      "        [ 4.4000],\n",
      "        [ 5.5000],\n",
      "        [ 6.7100],\n",
      "        [ 6.9300],\n",
      "        [ 4.1680],\n",
      "        [ 9.7790],\n",
      "        [ 6.1820],\n",
      "        [ 7.5900],\n",
      "        [ 2.1670],\n",
      "        [ 7.0420],\n",
      "        [10.7910],\n",
      "        [ 5.3130],\n",
      "        [ 7.9970],\n",
      "        [ 3.1000]])\n",
      "X_train shape: torch.Size([15, 1])\n",
      "\n",
      "Y Train: \n",
      "tensor([[1.7000],\n",
      "        [2.7600],\n",
      "        [2.0900],\n",
      "        [3.1900],\n",
      "        [1.6940],\n",
      "        [1.5730],\n",
      "        [3.3660],\n",
      "        [2.5960],\n",
      "        [2.5300],\n",
      "        [1.2210],\n",
      "        [2.8270],\n",
      "        [3.4650],\n",
      "        [1.6500],\n",
      "        [2.9040],\n",
      "        [1.3000]])\n",
      "Y_train shape: torch.Size([15, 1])\n"
     ]
    }
   ],
   "source": [
    "x_train: torch.Tensor = torch.from_numpy(x_train)\n",
    "y_train: torch.Tensor = torch.from_numpy(y_train)\n",
    "\n",
    "print(f\"X Train: \\n{x_train}\")\n",
    "print(f\"X_train shape: {x_train.shape}\")\n",
    "\n",
    "print(f\"\\nY Train: \\n{y_train}\")\n",
    "print(f\"Y_train shape: {y_train.shape}\")"
   ]
  },
  {
   "cell_type": "markdown",
   "metadata": {},
   "source": [
    "## 3. Build the model (Linear Regression Model)"
   ]
  },
  {
   "cell_type": "code",
   "execution_count": 5,
   "metadata": {},
   "outputs": [],
   "source": [
    "class LinearRegression(nn.Module):\n",
    "    def __init__(self) -> None:\n",
    "        super().__init__()\n",
    "        self.linear: nn.Linear = nn.Linear(in_features=1, out_features=1)\n",
    "\n",
    "    def forward(self, x: torch.Tensor) -> torch.Tensor:\n",
    "        return self.linear(x)"
   ]
  },
  {
   "cell_type": "code",
   "execution_count": 6,
   "metadata": {},
   "outputs": [
    {
     "name": "stdout",
     "output_type": "stream",
     "text": [
      "LinearRegression(\n",
      "  (linear): Linear(in_features=1, out_features=1, bias=True)\n",
      ")\n"
     ]
    }
   ],
   "source": [
    "model = LinearRegression()\n",
    "print(model)"
   ]
  },
  {
   "cell_type": "code",
   "execution_count": 7,
   "metadata": {},
   "outputs": [
    {
     "data": {
      "text/plain": [
       "OrderedDict([('linear.weight', tensor([[0.5794]])),\n",
       "             ('linear.bias', tensor([0.2316]))])"
      ]
     },
     "execution_count": 7,
     "metadata": {},
     "output_type": "execute_result"
    }
   ],
   "source": [
    "model.state_dict()"
   ]
  },
  {
   "cell_type": "code",
   "execution_count": 8,
   "metadata": {},
   "outputs": [
    {
     "name": "stdout",
     "output_type": "stream",
     "text": [
      "Parameter containing:\n",
      "tensor([[0.5794]], requires_grad=True)\n",
      "Parameter containing:\n",
      "tensor([0.2316], requires_grad=True)\n"
     ]
    }
   ],
   "source": [
    "# While Model Training only these two parameters (weight and bias) will be trained (changed)\n",
    "print(model.linear.weight)\n",
    "print(model.linear.bias)"
   ]
  },
  {
   "cell_type": "code",
   "execution_count": 9,
   "metadata": {},
   "outputs": [
    {
     "name": "stdout",
     "output_type": "stream",
     "text": [
      "[Parameter containing:\n",
      "tensor([[0.5794]], requires_grad=True), Parameter containing:\n",
      "tensor([0.2316], requires_grad=True)]\n"
     ]
    }
   ],
   "source": [
    "print(list(model.linear.parameters()))"
   ]
  },
  {
   "cell_type": "markdown",
   "metadata": {},
   "source": [
    "## 4. Pick up a Loss Function and Optimizer"
   ]
  },
  {
   "cell_type": "markdown",
   "metadata": {},
   "source": [
    "## 5. Build a Training Loop"
   ]
  },
  {
   "cell_type": "markdown",
   "metadata": {},
   "source": [
    "## 6. Evaluate the model"
   ]
  },
  {
   "cell_type": "markdown",
   "metadata": {},
   "source": [
    "## 7. Test the Model with New Data Points"
   ]
  },
  {
   "cell_type": "code",
   "execution_count": null,
   "metadata": {},
   "outputs": [],
   "source": []
  },
  {
   "cell_type": "code",
   "execution_count": null,
   "metadata": {},
   "outputs": [],
   "source": []
  },
  {
   "cell_type": "code",
   "execution_count": null,
   "metadata": {},
   "outputs": [],
   "source": []
  }
 ],
 "metadata": {
  "kernelspec": {
   "display_name": "generative-ai-zqkb-BGY-py3.12",
   "language": "python",
   "name": "python3"
  },
  "language_info": {
   "codemirror_mode": {
    "name": "ipython",
    "version": 3
   },
   "file_extension": ".py",
   "mimetype": "text/x-python",
   "name": "python",
   "nbconvert_exporter": "python",
   "pygments_lexer": "ipython3",
   "version": "3.12.5"
  }
 },
 "nbformat": 4,
 "nbformat_minor": 2
}
