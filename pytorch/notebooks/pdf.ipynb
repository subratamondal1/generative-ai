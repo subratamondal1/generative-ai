{
 "cells": [
  {
   "cell_type": "code",
   "execution_count": 16,
   "metadata": {},
   "outputs": [],
   "source": [
    "pdf_path = \"./volume2.pdf\""
   ]
  },
  {
   "cell_type": "code",
   "execution_count": 17,
   "metadata": {},
   "outputs": [],
   "source": [
    "import fitz  # PyMuPDF\n",
    "from PIL import Image\n",
    "\n",
    "\n",
    "def load_and_display_pdf(pdf_path: str, page_num: int = 0):\n",
    "    \"\"\"\n",
    "    Loads and displays a specific page of a PDF as an image.\n",
    "\n",
    "    :param pdf_path: The path to the PDF file.\n",
    "    :param page_num: The page number to display (0-based index). Default is the first page.\n",
    "    \"\"\"\n",
    "    # Open the PDF\n",
    "    pdf_document = fitz.open(pdf_path)\n",
    "\n",
    "    # Check if page_num is valid\n",
    "    if page_num < 0 or page_num >= pdf_document.page_count:\n",
    "        print(f\"Invalid page number. The PDF has {pdf_document.page_count} pages.\")\n",
    "        return\n",
    "\n",
    "    # Load the specified page\n",
    "    page = pdf_document.load_page(page_num)\n",
    "\n",
    "    # Render the page as a pixmap (image)\n",
    "    pix = page.get_pixmap()\n",
    "\n",
    "    # Convert to PIL Image\n",
    "    image = Image.frombytes(\"RGB\", [pix.width, pix.height], pix.samples)\n",
    "\n",
    "    # Display the image\n",
    "    image.show()\n",
    "\n",
    "    # Close the PDF document\n",
    "    pdf_document.close()\n"
   ]
  },
  {
   "cell_type": "code",
   "execution_count": 18,
   "metadata": {},
   "outputs": [],
   "source": [
    "import fitz  # PyMuPDF\n",
    "from PIL import Image\n",
    "import io\n",
    "from IPython.display import display, Image as IPImage\n",
    "\n",
    "\n",
    "def load_and_display_pdf(pdf_path: str, page_num: int = 0):\n",
    "    \"\"\"\n",
    "    Loads and displays a specific page of a PDF as an image inside a Jupyter notebook.\n",
    "\n",
    "    :param pdf_path: The path to the PDF file.\n",
    "    :param page_num: The page number to display (0-based index). Default is the first page.\n",
    "    \"\"\"\n",
    "    # Open the PDF\n",
    "    pdf_document = fitz.open(pdf_path)\n",
    "\n",
    "    # Check if page_num is valid\n",
    "    if page_num < 0 or page_num >= pdf_document.page_count:\n",
    "        print(f\"Invalid page number. The PDF has {pdf_document.page_count} pages.\")\n",
    "        return\n",
    "\n",
    "    # Load the specified page\n",
    "    page = pdf_document.load_page(page_num)\n",
    "\n",
    "    # Render the page as a pixmap (image)\n",
    "    pix = page.get_pixmap()\n",
    "\n",
    "    # Convert to PIL Image\n",
    "    image = Image.frombytes(\"RGB\", [pix.width, pix.height], pix.samples)\n",
    "\n",
    "    # Convert the PIL Image to a byte buffer for display in Jupyter notebook\n",
    "    img_buffer = io.BytesIO()\n",
    "    image.save(img_buffer, format=\"PNG\")\n",
    "    img_buffer.seek(0)\n",
    "\n",
    "    # Display the image inside the notebook\n",
    "    display(IPImage(data=img_buffer.read(), format=\"png\"))\n",
    "\n",
    "    # Close the PDF document\n",
    "    pdf_document.close()"
   ]
  },
  {
   "cell_type": "code",
   "execution_count": 23,
   "metadata": {},
   "outputs": [],
   "source": [
    "load_and_display_pdf(pdf_path=pdf_path, page_num=1)"
   ]
  },
  {
   "cell_type": "code",
   "execution_count": null,
   "metadata": {},
   "outputs": [],
   "source": []
  }
 ],
 "metadata": {
  "kernelspec": {
   "display_name": "generative-ai-zqkb-BGY-py3.12",
   "language": "python",
   "name": "python3"
  },
  "language_info": {
   "codemirror_mode": {
    "name": "ipython",
    "version": 3
   },
   "file_extension": ".py",
   "mimetype": "text/x-python",
   "name": "python",
   "nbconvert_exporter": "python",
   "pygments_lexer": "ipython3",
   "version": "3.12.5"
  }
 },
 "nbformat": 4,
 "nbformat_minor": 2
}
