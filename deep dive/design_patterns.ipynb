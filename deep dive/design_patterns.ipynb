{
 "cells": [
  {
   "cell_type": "markdown",
   "metadata": {},
   "source": [
    "# OOPS (Object-Oriented Programming)"
   ]
  },
  {
   "cell_type": "markdown",
   "metadata": {},
   "source": [
    "## Encapsulation / Abstraction / Data Hiding"
   ]
  },
  {
   "cell_type": "markdown",
   "metadata": {},
   "source": [
    "**Data Hiding**:  \n",
    "Data hiding is the practice of **restricting direct access** to an object’s internal data. It provides an interface for interacting with the object while keeping its internal workings private, enhancing security and reducing complexity.\n",
    "\n",
    "**Components of Data Hiding**:\n",
    "- **Encapsulation**: Binds data (**attributes**) and methods (**functions**) that modify that data into a single unit (**class**).\n",
    "- **Abstraction**: Simplifies the interface by hiding unnecessary details from users.\n",
    "\n",
    "**Encapsulation**:  \n",
    "Encapsulation **restricts access to an object's internal state** and allows controlled access via public methods (**getters** and **setters**). It promotes data security and simplifies maintenance by preventing unauthorized access."
   ]
  },
  {
   "cell_type": "code",
   "execution_count": 12,
   "metadata": {},
   "outputs": [],
   "source": [
    "class Movie:\n",
    "    def __init__(self, title: str, year: int, genre: str) -> None:\n",
    "        self._year: int = year\n",
    "        self._title: str = title\n",
    "        self._genre: str = genre\n",
    "\n",
    "    # Getter for title\n",
    "    @property\n",
    "    def title(self) -> str:\n",
    "        return self._title\n",
    "\n",
    "    # Setter for title\n",
    "    @title.setter\n",
    "    def title(self, value) -> None:\n",
    "        self._title = value\n",
    "\n",
    "    # Getter for year\n",
    "    @property\n",
    "    def year(self) -> int:\n",
    "        return self._year\n",
    "\n",
    "    # Setter for year\n",
    "    @year.setter\n",
    "    def year(self, value) -> None:\n",
    "        self._year = value\n",
    "\n",
    "    # Getter for genre\n",
    "    @property\n",
    "    def genre(self) -> str:\n",
    "        return self._genre\n",
    "\n",
    "    # Setter for genre\n",
    "    @genre.setter\n",
    "    def genre(self, value) -> None:\n",
    "        self._genre = value\n",
    "\n",
    "    # Method to display movie details\n",
    "    def print_details(self) -> None:\n",
    "        print(f\"Title: {self.title}\")\n",
    "        print(f\"Year: {self.year}\")\n",
    "        print(f\"Genre: {self.genre}\")"
   ]
  },
  {
   "cell_type": "code",
   "execution_count": 13,
   "metadata": {},
   "outputs": [
    {
     "name": "stdout",
     "output_type": "stream",
     "text": [
      "Title: The Lion King\n",
      "Year: 1994\n",
      "Genre: Adventure\n",
      "---\n",
      "New title: Forrest Gump\n"
     ]
    }
   ],
   "source": [
    "# Example usage\n",
    "def main() -> None:\n",
    "    movie = Movie(title=\"The Lion King\", year=1994, genre=\"Adventure\")\n",
    "    movie.print_details()\n",
    "\n",
    "    print(\"---\")\n",
    "    movie.title = \"Forrest Gump\"  # Using setter method implicitly\n",
    "    print(\"New title:\", movie.title)  # Using getter method implicitly\n",
    "\n",
    "\n",
    "if __name__ == \"__main__\":\n",
    "    main()"
   ]
  },
  {
   "cell_type": "markdown",
   "metadata": {},
   "source": [
    "## Abstraction"
   ]
  },
  {
   "cell_type": "markdown",
   "metadata": {},
   "source": [
    "**Definition**:  \n",
    "Abstraction is an OOP technique that hides the internal implementation details of an object and only exposes the necessary functionality. It simplifies the program by focusing on *what* an object does rather than *how* it does it.\n",
    "\n",
    "**Example**:  \n",
    "Let's use a **Movie** class to demonstrate abstraction. The class hides the internal details of how the movie's attributes are stored or manipulated. The user can interact with the class through simple methods (like getting or setting the title), without knowing how these actions are performed internally."
   ]
  },
  {
   "cell_type": "code",
   "execution_count": 19,
   "metadata": {},
   "outputs": [
    {
     "name": "stdout",
     "output_type": "stream",
     "text": [
      "Title: The Lion King, Year: 1994, Genre: Adventure\n",
      "Updated Title: Forrest Gump\n"
     ]
    }
   ],
   "source": [
    "class Movie2:\n",
    "    def __init__(self, title: str, year: int, genre: str):\n",
    "        self._title: str = title  # Protected attribute\n",
    "        self._year: int = year\n",
    "        self._genre: str = genre\n",
    "\n",
    "    # Public method to get the movie title (abstracting internal implementation)\n",
    "    @property\n",
    "    def title(self) -> str:\n",
    "        return self._title\n",
    "\n",
    "    # Public method to set the movie title (abstracting internal implementation)\n",
    "    @title.setter\n",
    "    def title(self, value) -> None:\n",
    "        self._title = value\n",
    "\n",
    "    # Public method to print movie details (abstracts complex internal logic)\n",
    "    def print_details(self) -> None:\n",
    "        print(f\"Title: {self.title}, Year: {self._year}, Genre: {self._genre}\")\n",
    "\n",
    "\n",
    "# Example usage\n",
    "def main() -> None:\n",
    "    movie = Movie2(title=\"The Lion King\", year=1994, genre=\"Adventure\")\n",
    "    movie.print_details()  # Abstracted method to display details\n",
    "\n",
    "    movie.title = \"Forrest Gump\"  # Abstracted setter to change the title\n",
    "    print(f\"Updated Title: {movie.title}\")  # Abstracted getter to access the title\n",
    "\n",
    "\n",
    "if __name__ == \"__main__\":\n",
    "    main()"
   ]
  },
  {
   "cell_type": "markdown",
   "metadata": {},
   "source": [
    "## Inheritance"
   ]
  },
  {
   "cell_type": "markdown",
   "metadata": {},
   "source": [
    "### Inheritance in Python (Movie Example)\n",
    "\n",
    "**Definition**:  \n",
    "Inheritance is an OOP technique where a new class (**derived class**) is created from an existing class (**base class**). The derived class inherits all the attributes and methods of the base class and can also have its own additional features.\n",
    "\n",
    "### IS-A Relationship:\n",
    "Inheritance is used when there’s an **IS-A relationship** between classes. For example:\n",
    "- A **ComedyMovie IS-A Movie**.\n",
    "- A **ActionMovie IS-A Movie**."
   ]
  },
  {
   "cell_type": "markdown",
   "metadata": {},
   "source": [
    "**1. Single Inheritance:**</br>\n",
    "One class inherits from a single base class."
   ]
  },
  {
   "cell_type": "code",
   "execution_count": 23,
   "metadata": {},
   "outputs": [
    {
     "name": "stdout",
     "output_type": "stream",
     "text": [
      "Movie: The Hangover, Year: 2009, Humor Level: 8\n"
     ]
    }
   ],
   "source": [
    "class Movie:\n",
    "    def __init__(self, title: str, year: int) -> None:\n",
    "        self.title: str = title\n",
    "        self.year: int = year\n",
    "\n",
    "    @property\n",
    "    def details(self) -> str:\n",
    "        return f\"Movie: {self.title}, Year: {self.year}\"\n",
    "\n",
    "\n",
    "# Single inheritance\n",
    "class ComedyMovie(Movie):\n",
    "    def __init__(self, title: str, year: int, humor_level: int) -> None:\n",
    "        super().__init__(title=title, year=year)  # Calls Movie's __init__ method\n",
    "        self.humor_level: int = humor_level\n",
    "\n",
    "    @property\n",
    "    def comedy_details(self) -> str:\n",
    "        return f\"{self.details}, Humor Level: {self.humor_level}\"\n",
    "\n",
    "\n",
    "# Example usage\n",
    "comedy = ComedyMovie(title=\"The Hangover\", year=2009, humor_level=8)\n",
    "print(comedy.comedy_details)"
   ]
  },
  {
   "cell_type": "markdown",
   "metadata": {},
   "source": [
    "**2. Multiple Inheritance:**</br>\n",
    "A class inherits from more than one base class."
   ]
  },
  {
   "cell_type": "code",
   "execution_count": 24,
   "metadata": {},
   "outputs": [
    {
     "name": "stdout",
     "output_type": "stream",
     "text": [
      "Movie: Deadpool, Year: 2016, Humor Level: 9, Action Level: 10\n"
     ]
    }
   ],
   "source": [
    "class ActionMovie:\n",
    "    def __init__(self, action_level: int) -> None:\n",
    "        self._action_level: int = action_level\n",
    "\n",
    "    @property\n",
    "    def action_level(self) -> str:\n",
    "        return f\"Action Level: {self._action_level}\"\n",
    "\n",
    "\n",
    "class HybridMovie(ComedyMovie, ActionMovie):\n",
    "    def __init__(\n",
    "        self, title: str, year: int, humor_level: int, action_level: int\n",
    "    ) -> None:\n",
    "        ComedyMovie.__init__(self, title, year, humor_level)\n",
    "        ActionMovie.__init__(self, action_level)\n",
    "\n",
    "    @property\n",
    "    def hybrid_details(self) -> str:\n",
    "        return f\"{self.comedy_details}, {self.action_level}\"\n",
    "\n",
    "\n",
    "# Example usage\n",
    "hybrid_movie = HybridMovie(\"Deadpool\", 2016, 9, 10)\n",
    "print(hybrid_movie.hybrid_details)"
   ]
  },
  {
   "cell_type": "markdown",
   "metadata": {},
   "source": [
    "**3. Multilevel Inheritance:**</br>\n",
    "A class inherits from a class, which itself inherits from another class."
   ]
  },
  {
   "cell_type": "code",
   "execution_count": 25,
   "metadata": {},
   "outputs": [
    {
     "name": "stdout",
     "output_type": "stream",
     "text": [
      "Movie: Scary Movie, Year: 2000, Humor Level: 7, Suspense Level: 8\n"
     ]
    }
   ],
   "source": [
    "class ThrillerMovie(ComedyMovie):\n",
    "    def __init__(\n",
    "        self, title: str, year: int, humor_level: int, suspense_level: int\n",
    "    ) -> None:\n",
    "        super().__init__(title, year, humor_level)\n",
    "        self._suspense_level: int = suspense_level\n",
    "\n",
    "    @property\n",
    "    def thriller_details(self) -> str:\n",
    "        return f\"{self.comedy_details}, Suspense Level: {self._suspense_level}\"\n",
    "\n",
    "\n",
    "# Example usage\n",
    "thriller_movie = ThrillerMovie(\"Scary Movie\", 2000, 7, 8)\n",
    "print(thriller_movie.thriller_details)"
   ]
  },
  {
   "cell_type": "markdown",
   "metadata": {},
   "source": [
    "**4.Hierarchical Inheritance**:  \n",
    "More than one class inherits from the same base class."
   ]
  },
  {
   "cell_type": "code",
   "execution_count": 26,
   "metadata": {},
   "outputs": [
    {
     "name": "stdout",
     "output_type": "stream",
     "text": [
      "Movie: Titanic, Year: 1997, Emotional Level: 9\n",
      "Movie: The Conjuring, Year: 2013, Scare Level: 10\n"
     ]
    }
   ],
   "source": [
    "class DramaMovie(Movie):\n",
    "    def __init__(self, title: str, year: int, emotional_level: int) -> None:\n",
    "        super().__init__(title, year)\n",
    "        self._emotional_level: int = emotional_level\n",
    "\n",
    "    @property\n",
    "    def drama_details(self) -> str:\n",
    "        return f\"{self.details}, Emotional Level: {self._emotional_level}\"\n",
    "\n",
    "\n",
    "class HorrorMovie(Movie):\n",
    "    def __init__(self, title: str, year: int, scare_level: int) -> None:\n",
    "        super().__init__(title, year)\n",
    "        self._scare_level: int = scare_level\n",
    "\n",
    "    @property\n",
    "    def horror_details(self) -> str:\n",
    "        return f\"{self.details}, Scare Level: {self._scare_level}\"\n",
    "\n",
    "\n",
    "# Example usage\n",
    "drama_movie = DramaMovie(\"Titanic\", 1997, 9)\n",
    "horror_movie = HorrorMovie(\"The Conjuring\", 2013, 10)\n",
    "print(drama_movie.drama_details)\n",
    "print(horror_movie.horror_details)"
   ]
  },
  {
   "cell_type": "markdown",
   "metadata": {},
   "source": [
    "**5. Hybrid Inheritance**:  \n",
    "A combination of multiple and multi-level inheritance (Python supports multiple inheritance, unlike Java and C#)."
   ]
  },
  {
   "cell_type": "code",
   "execution_count": 29,
   "metadata": {},
   "outputs": [
    {
     "name": "stdout",
     "output_type": "stream",
     "text": [
      "Movie: Guardians of the Galaxy, Year: 2014, Humor Level: 8, Action Level: 9, Movie: Guardians of the Galaxy, Year: 2014, Science Factor: 10\n"
     ]
    }
   ],
   "source": [
    "class Movie:\n",
    "    def __init__(self, title: str, year: int) -> None:\n",
    "        self._title: str = title\n",
    "        self._year: int = year\n",
    "\n",
    "    @property\n",
    "    def details(self) -> str:\n",
    "        return f\"Movie: {self._title}, Year: {self._year}\"\n",
    "\n",
    "\n",
    "class HybridMovie(ComedyMovie, ActionMovie):\n",
    "    def __init__(\n",
    "        self, title: str, year: int, humor_level: int, action_level: int\n",
    "    ) -> None:\n",
    "        ComedyMovie.__init__(self, title, year, humor_level)\n",
    "        ActionMovie.__init__(self, action_level)\n",
    "\n",
    "    @property\n",
    "    def hybrid_details(self) -> str:\n",
    "        return f\"{self.comedy_details}, {self.action_level}\"\n",
    "\n",
    "\n",
    "# SciFiMovie class\n",
    "class SciFiMovie(Movie):\n",
    "    def __init__(self, title: str, year: int, science_factor: int) -> None:\n",
    "        super().__init__(title, year)  # Call Movie's __init__\n",
    "        self._science_factor: int = science_factor\n",
    "\n",
    "    @property\n",
    "    def sci_fi_details(self) -> str:\n",
    "        return f\"{self.details}, Science Factor: {self._science_factor}\"\n",
    "\n",
    "\n",
    "# HybridSciFiThriller class inherits from HybridMovie and SciFiMovie\n",
    "class HybridSciFiThriller(HybridMovie, SciFiMovie):\n",
    "    def __init__(\n",
    "        self,\n",
    "        title: str,\n",
    "        year: int,\n",
    "        humor_level: int,\n",
    "        action_level: int,\n",
    "        science_factor: int,\n",
    "    ) -> None:\n",
    "        # Initialize both parent classes\n",
    "        HybridMovie.__init__(self, title, year, humor_level, action_level)\n",
    "        SciFiMovie.__init__(self, title, year, science_factor)\n",
    "\n",
    "    @property\n",
    "    def hybrid_sci_fi_thriller_details(self) -> str:\n",
    "        # Access details from both parent classes\n",
    "        return f\"{self.hybrid_details}, {self.sci_fi_details}\"\n",
    "\n",
    "\n",
    "# Example usage\n",
    "hybrid_sci_fi_thriller = HybridSciFiThriller(\"Guardians of the Galaxy\", 2014, 8, 9, 10)\n",
    "print(hybrid_sci_fi_thriller.hybrid_sci_fi_thriller_details)"
   ]
  },
  {
   "cell_type": "markdown",
   "metadata": {},
   "source": [
    "## Polymorphism"
   ]
  },
  {
   "cell_type": "markdown",
   "metadata": {},
   "source": [
    "### Dynamic Polymorphism (Method Overriding)"
   ]
  },
  {
   "cell_type": "code",
   "execution_count": 32,
   "metadata": {},
   "outputs": [
    {
     "name": "stdout",
     "output_type": "stream",
     "text": [
      "Movie: The Hangover, Year: 2009, Humor Level: 8\n",
      "Movie: Mad Max: Fury Road, Year: 2015, Action Level: 10\n",
      "Movie: Interstellar, Year: 2014, Science Factor: 9\n"
     ]
    }
   ],
   "source": [
    "# Base class\n",
    "class Movie:\n",
    "    def __init__(self, title: str, year: int) -> None:\n",
    "        self._title = title\n",
    "        self._year = year\n",
    "\n",
    "    @property\n",
    "    def details(self) -> str:\n",
    "        return f\"Movie: {self._title}, Year: {self._year}\"\n",
    "\n",
    "\n",
    "# Derived class 1\n",
    "class ComedyMovie(Movie):\n",
    "    def __init__(self, title: str, year: int, humor_level: int) -> None:\n",
    "        super().__init__(title, year)\n",
    "        self._humor_level = humor_level\n",
    "\n",
    "    @property\n",
    "    def details(self) -> str:\n",
    "        return f\"{super().details}, Humor Level: {self._humor_level}\"\n",
    "\n",
    "\n",
    "# Derived class 2\n",
    "class ActionMovie(Movie):\n",
    "    def __init__(self, title: str, year: int, action_level: int) -> None:\n",
    "        super().__init__(title, year)\n",
    "        self._action_level = action_level\n",
    "\n",
    "    @property\n",
    "    def details(self) -> str:\n",
    "        return f\"{super().details}, Action Level: {self._action_level}\"\n",
    "\n",
    "\n",
    "# Derived class 3\n",
    "class SciFiMovie(Movie):\n",
    "    def __init__(self, title: str, year: int, science_factor: int) -> None:\n",
    "        super().__init__(title, year)\n",
    "        self._science_factor = science_factor\n",
    "\n",
    "    @property\n",
    "    def details(self) -> str:\n",
    "        return f\"{super().details}, Science Factor: {self._science_factor}\"\n",
    "\n",
    "\n",
    "# Example usage of dynamic polymorphism\n",
    "movies = [\n",
    "    ComedyMovie(\"The Hangover\", 2009, 8),\n",
    "    ActionMovie(\"Mad Max: Fury Road\", 2015, 10),\n",
    "    SciFiMovie(\"Interstellar\", 2014, 9),\n",
    "]\n",
    "\n",
    "for movie in movies:\n",
    "    print(movie.details)"
   ]
  },
  {
   "cell_type": "markdown",
   "metadata": {},
   "source": [
    "### Static Polymorphism via default arguments (simulating method overloading)"
   ]
  },
  {
   "cell_type": "code",
   "execution_count": 30,
   "metadata": {},
   "outputs": [
    {
     "name": "stdout",
     "output_type": "stream",
     "text": [
      "Movie: Inception, Year: 2010, Genre: general\n",
      "Movie: Inception, Year: 2010, Genre: Sci-Fi\n"
     ]
    }
   ],
   "source": [
    "class Movie:\n",
    "    def __init__(self, title: str, year: int) -> None:\n",
    "        self._title = title\n",
    "        self._year = year\n",
    "\n",
    "    @property\n",
    "    def details(self) -> str:\n",
    "        return f\"Movie: {self._title}, Year: {self._year}\"\n",
    "\n",
    "    # Static Polymorphism via default arguments (simulating method overloading)\n",
    "    def get_description(self, genre: str = \"general\") -> str:\n",
    "        return f\"{self.details}, Genre: {genre}\"\n",
    "\n",
    "\n",
    "# Example usage\n",
    "movie = Movie(\"Inception\", 2010)\n",
    "print(movie.get_description())  # Calls get_description() with default genre\n",
    "print(movie.get_description(\"Sci-Fi\"))  # Calls get_description() with specific genre"
   ]
  },
  {
   "cell_type": "markdown",
   "metadata": {},
   "source": [
    "### Static Polymorphism (Operator Overloading)"
   ]
  },
  {
   "cell_type": "code",
   "execution_count": 31,
   "metadata": {},
   "outputs": [
    {
     "name": "stdout",
     "output_type": "stream",
     "text": [
      "Combined Rating: 17.5\n"
     ]
    }
   ],
   "source": [
    "class Movie:\n",
    "    def __init__(self, title: str, year: int, rating: float) -> None:\n",
    "        self._title = title\n",
    "        self._year = year\n",
    "        self._rating = rating\n",
    "\n",
    "    @property\n",
    "    def rating(self) -> float:\n",
    "        return self._rating\n",
    "\n",
    "    @rating.setter\n",
    "    def rating(self, value: float) -> None:\n",
    "        if value < 0 or value > 10:\n",
    "            raise ValueError(\"Rating must be between 0 and 10.\")\n",
    "        self._rating = value\n",
    "\n",
    "    @property\n",
    "    def details(self) -> str:\n",
    "        return f\"Movie: {self._title}, Year: {self._year}, Rating: {self._rating}\"\n",
    "\n",
    "    # Overloading the + operator to add ratings of two movies\n",
    "    def __add__(self, other: \"Movie\") -> float:\n",
    "        return self.rating + other.rating\n",
    "\n",
    "\n",
    "# Example usage of operator overloading\n",
    "movie1 = Movie(\"The Dark Knight\", 2008, 9.0)\n",
    "movie2 = Movie(\"Inception\", 2010, 8.5)\n",
    "\n",
    "# Adding two movie ratings using the overloaded + operator\n",
    "combined_rating = movie1 + movie2\n",
    "print(f\"Combined Rating: {combined_rating}\")"
   ]
  },
  {
   "cell_type": "markdown",
   "metadata": {},
   "source": [
    "# SOLID Design Principles"
   ]
  },
  {
   "cell_type": "markdown",
   "metadata": {},
   "source": [
    "## Single Responsibility Principle"
   ]
  },
  {
   "cell_type": "markdown",
   "metadata": {},
   "source": [
    "The **Single Responsibility Principle (SRP)** is one of the SOLID design principles in object-oriented programming. It states that **a class should have only one reason to change**, meaning it should have **one primary responsibility**.\n",
    "\n",
    "Here's a simple example to explain SRP:\n",
    "\n",
    "- Imagine you create a class called `Journal` to store personal entries.\n",
    "- The journal’s job is to **add, remove, and display entries**. This is its **single responsibility**.\n",
    "\n",
    "However, if you start adding methods for **saving or loading the journal** (e.g., from a file or web), you're giving it extra responsibilities (like handling file operations). This violates SRP because the journal is now doing more than just managing entries.\n",
    "\n",
    "To fix this, you'd **separate the saving/loading functionality** into a different class, like `PersistenceManager`, which handles file operations. Now, the `Journal` class focuses only on managing entries, and `PersistenceManager` handles saving/loading.\n",
    "\n",
    "In short, **SRP ensures that each class has one clear role**, making your code more organized and easier to maintain.\n",
    "\n"
   ]
  },
  {
   "cell_type": "code",
   "execution_count": 4,
   "metadata": {},
   "outputs": [],
   "source": [
    "# Journal class focuses on adding, removing, and displaying entries.\n",
    "class Journal:\n",
    "    def __init__(self) -> None:\n",
    "        self.entries: list[str] = []\n",
    "        self.count: int = 0\n",
    "\n",
    "    def add_entry(self, text: str) -> None:\n",
    "        self.count += 1\n",
    "        self.entries.append(f\"{self.count}: {text}\")\n",
    "\n",
    "    def remove_entry(self, pos: int) -> None:\n",
    "        del self.entries[pos]\n",
    "\n",
    "    def __str__(self) -> str:\n",
    "        return \"\\n\".join(self.entries)"
   ]
  },
  {
   "cell_type": "code",
   "execution_count": 5,
   "metadata": {},
   "outputs": [],
   "source": [
    "# PersistenceManager class focuses on saving/loading the journal to/from files.\n",
    "class PersistenceManager:\n",
    "    @staticmethod\n",
    "    def save_to_file(journal: Journal, filename: str) -> None:\n",
    "        with open(file=filename, mode=\"w\") as file:\n",
    "            file.write(str(object=journal))\n",
    "\n",
    "    @staticmethod\n",
    "    def load_from_file(filename: str) -> str:\n",
    "        with open(file=filename, mode=\"r\") as file:\n",
    "            return file.read()"
   ]
  },
  {
   "cell_type": "code",
   "execution_count": 6,
   "metadata": {},
   "outputs": [
    {
     "name": "stdout",
     "output_type": "stream",
     "text": [
      "Journal entries:\n",
      "1: I cried today\n",
      "2: I ate a bug\n",
      "Journal saved to journal.txt\n"
     ]
    }
   ],
   "source": [
    "# Create a new journal\n",
    "journal = Journal()\n",
    "journal.add_entry(text=\"I cried today\")\n",
    "journal.add_entry(text=\"I ate a bug\")\n",
    "\n",
    "# Print the journal entries\n",
    "print(\"Journal entries:\")\n",
    "print(journal)\n",
    "\n",
    "# Save the journal to a file using PersistenceManager\n",
    "filename: str = \"journal.txt\"\n",
    "PersistenceManager.save_to_file(journal=journal, filename=filename)\n",
    "print(f\"Journal saved to {filename}\")"
   ]
  },
  {
   "cell_type": "code",
   "execution_count": 9,
   "metadata": {},
   "outputs": [
    {
     "name": "stdout",
     "output_type": "stream",
     "text": [
      "1: I cried today\n",
      "2: I ate a bug\n",
      "Journal loaded from journal.txt\n"
     ]
    }
   ],
   "source": [
    "loaded_journal: str = PersistenceManager.load_from_file(filename=filename)\n",
    "print(loaded_journal)\n",
    "print(f\"Journal loaded from {filename}\")"
   ]
  },
  {
   "cell_type": "markdown",
   "metadata": {},
   "source": [
    "## Open-Closed Principle"
   ]
  },
  {
   "cell_type": "markdown",
   "metadata": {},
   "source": [
    "## Liskov Substitution Principle"
   ]
  },
  {
   "cell_type": "markdown",
   "metadata": {},
   "source": [
    "## Interface Segregation Principle"
   ]
  },
  {
   "cell_type": "markdown",
   "metadata": {},
   "source": [
    "## Dependency Inversion Principle"
   ]
  },
  {
   "cell_type": "markdown",
   "metadata": {},
   "source": []
  }
 ],
 "metadata": {
  "kernelspec": {
   "display_name": "generative-ai-zqkb-BGY-py3.12",
   "language": "python",
   "name": "python3"
  },
  "language_info": {
   "codemirror_mode": {
    "name": "ipython",
    "version": 3
   },
   "file_extension": ".py",
   "mimetype": "text/x-python",
   "name": "python",
   "nbconvert_exporter": "python",
   "pygments_lexer": "ipython3",
   "version": "3.12.5"
  }
 },
 "nbformat": 4,
 "nbformat_minor": 2
}
